{
 "cells": [
  {
   "cell_type": "code",
   "execution_count": 48,
   "metadata": {},
   "outputs": [],
   "source": [
    "import pandas as pd\n",
    "import numpy as np\n",
    "import matplotlib.pyplot as plt\n",
    "import seaborn as sns\n",
    "import requests\n",
    "import datetime"
   ]
  },
  {
   "cell_type": "markdown",
   "metadata": {},
   "source": [
    "#  1) Getting the Data"
   ]
  },
  {
   "cell_type": "markdown",
   "metadata": {},
   "source": [
    "## 1.1) Fear and Greed Index"
   ]
  },
  {
   "cell_type": "code",
   "execution_count": 19,
   "metadata": {},
   "outputs": [],
   "source": [
    "url =  'https://api.alternative.me/fng/?limit=0'\n",
    "response = requests.get(url, params={'date_format':'MM/DD/YYYY'}).json()\n",
    "data = pd.DataFrame(response['data'])"
   ]
  },
  {
   "cell_type": "code",
   "execution_count": 22,
   "metadata": {},
   "outputs": [],
   "source": [
    "sentiment_score_df = data.drop(columns=['time_until_update', 'value_classification']).set_index('timestamp')"
   ]
  },
  {
   "cell_type": "code",
   "execution_count": 104,
   "metadata": {},
   "outputs": [
    {
     "data": {
      "text/html": [
       "<div>\n",
       "<style scoped>\n",
       "    .dataframe tbody tr th:only-of-type {\n",
       "        vertical-align: middle;\n",
       "    }\n",
       "\n",
       "    .dataframe tbody tr th {\n",
       "        vertical-align: top;\n",
       "    }\n",
       "\n",
       "    .dataframe thead th {\n",
       "        text-align: right;\n",
       "    }\n",
       "</style>\n",
       "<table border=\"1\" class=\"dataframe\">\n",
       "  <thead>\n",
       "    <tr style=\"text-align: right;\">\n",
       "      <th></th>\n",
       "      <th>value</th>\n",
       "    </tr>\n",
       "    <tr>\n",
       "      <th>timestamp</th>\n",
       "      <th></th>\n",
       "    </tr>\n",
       "  </thead>\n",
       "  <tbody>\n",
       "    <tr>\n",
       "      <th>02-03-2021</th>\n",
       "      <td>78</td>\n",
       "    </tr>\n",
       "    <tr>\n",
       "      <th>01-03-2021</th>\n",
       "      <td>38</td>\n",
       "    </tr>\n",
       "    <tr>\n",
       "      <th>28-02-2021</th>\n",
       "      <td>55</td>\n",
       "    </tr>\n",
       "    <tr>\n",
       "      <th>27-02-2021</th>\n",
       "      <td>56</td>\n",
       "    </tr>\n",
       "    <tr>\n",
       "      <th>26-02-2021</th>\n",
       "      <td>55</td>\n",
       "    </tr>\n",
       "    <tr>\n",
       "      <th>...</th>\n",
       "      <td>...</td>\n",
       "    </tr>\n",
       "    <tr>\n",
       "      <th>05-02-2018</th>\n",
       "      <td>11</td>\n",
       "    </tr>\n",
       "    <tr>\n",
       "      <th>04-02-2018</th>\n",
       "      <td>24</td>\n",
       "    </tr>\n",
       "    <tr>\n",
       "      <th>03-02-2018</th>\n",
       "      <td>40</td>\n",
       "    </tr>\n",
       "    <tr>\n",
       "      <th>02-02-2018</th>\n",
       "      <td>15</td>\n",
       "    </tr>\n",
       "    <tr>\n",
       "      <th>01-02-2018</th>\n",
       "      <td>30</td>\n",
       "    </tr>\n",
       "  </tbody>\n",
       "</table>\n",
       "<p>1123 rows × 1 columns</p>\n",
       "</div>"
      ],
      "text/plain": [
       "           value\n",
       "timestamp       \n",
       "02-03-2021    78\n",
       "01-03-2021    38\n",
       "28-02-2021    55\n",
       "27-02-2021    56\n",
       "26-02-2021    55\n",
       "...          ...\n",
       "05-02-2018    11\n",
       "04-02-2018    24\n",
       "03-02-2018    40\n",
       "02-02-2018    15\n",
       "01-02-2018    30\n",
       "\n",
       "[1123 rows x 1 columns]"
      ]
     },
     "execution_count": 104,
     "metadata": {},
     "output_type": "execute_result"
    }
   ],
   "source": [
    "sentiment_score_df"
   ]
  },
  {
   "cell_type": "markdown",
   "metadata": {},
   "source": [
    "## 1.2) Augmento Topics Count"
   ]
  },
  {
   "cell_type": "markdown",
   "metadata": {},
   "source": [
    "### Getting topics Indexes: "
   ]
  },
  {
   "cell_type": "code",
   "execution_count": 12,
   "metadata": {},
   "outputs": [],
   "source": [
    "topics_url = \"http://api-dev.augmento.ai/v0.1/topics\"\n",
    "topics_index = requests.get(topics_url).json()"
   ]
  },
  {
   "cell_type": "markdown",
   "metadata": {},
   "source": [
    "### Getting list of counts of those topics per day (got from 02-01-2018 to 01-31-2021 only)"
   ]
  },
  {
   "cell_type": "code",
   "execution_count": 100,
   "metadata": {},
   "outputs": [],
   "source": [
    "url_agg = \"http://api-dev.augmento.ai/v0.1/events/aggregated\"\n",
    "params = {\n",
    "  \"source\" : \"twitter\",\n",
    "  \"coin\" : \"bitcoin\",\n",
    "  \"bin_size\" : \"24H\",\n",
    "  \"count_ptr\" : 1000,\n",
    "  \"start_ptr\" : 0,\n",
    "  \"start_datetime\" : \"2018-02-01T00:00:00Z\",\n",
    "  \"end_datetime\" : \"2020-04-30T00:00:00Z\",\n",
    "}\n",
    "data_2 = requests.get(url_agg, params=params).json()\n",
    "topics_count_df_1 = pd.DataFrame(data_2).drop(columns=['t_epoch'])\n",
    "topics_count_df_1['datetime'] = pd.to_datetime(topics_count_df_1['datetime']).dt.date\n",
    "topics_count_df_1 = topics_count_df_1.set_index('datetime')"
   ]
  },
  {
   "cell_type": "code",
   "execution_count": 101,
   "metadata": {},
   "outputs": [],
   "source": [
    "url_agg = \"http://api-dev.augmento.ai/v0.1/events/aggregated\"\n",
    "params_2 = {\n",
    "  \"source\" : \"twitter\",\n",
    "  \"coin\" : \"bitcoin\",\n",
    "  \"bin_size\" : \"24H\",\n",
    "  \"count_ptr\" : 500,\n",
    "  \"start_ptr\" : 0,\n",
    "  \"start_datetime\" : \"2020-04-29T00:00:00Z\",\n",
    "  \"end_datetime\" : \"2021-03-02T00:00:00Z\",\n",
    "}\n",
    "data_3 = requests.get(url_agg, params=params_2).json()\n",
    "topics_count_df_2 = pd.DataFrame(data_3).drop(columns=['t_epoch'])\n",
    "topics_count_df_2['datetime'] = pd.to_datetime(topics_count_df_2['datetime']).dt.date\n",
    "topics_count_df_2 = topics_count_df_2.set_index('datetime')"
   ]
  },
  {
   "cell_type": "code",
   "execution_count": 102,
   "metadata": {},
   "outputs": [],
   "source": [
    "topics_count_df = pd.concat([topics_count_df_1,topics_count_df_2])"
   ]
  },
  {
   "cell_type": "code",
   "execution_count": 103,
   "metadata": {},
   "outputs": [
    {
     "data": {
      "text/html": [
       "<div>\n",
       "<style scoped>\n",
       "    .dataframe tbody tr th:only-of-type {\n",
       "        vertical-align: middle;\n",
       "    }\n",
       "\n",
       "    .dataframe tbody tr th {\n",
       "        vertical-align: top;\n",
       "    }\n",
       "\n",
       "    .dataframe thead th {\n",
       "        text-align: right;\n",
       "    }\n",
       "</style>\n",
       "<table border=\"1\" class=\"dataframe\">\n",
       "  <thead>\n",
       "    <tr style=\"text-align: right;\">\n",
       "      <th></th>\n",
       "      <th>counts</th>\n",
       "    </tr>\n",
       "    <tr>\n",
       "      <th>datetime</th>\n",
       "      <th></th>\n",
       "    </tr>\n",
       "  </thead>\n",
       "  <tbody>\n",
       "    <tr>\n",
       "      <th>2018-02-01</th>\n",
       "      <td>[19, 35, 53, 179, 26, 44, 22, 5, 22, 83, 22, 4...</td>\n",
       "    </tr>\n",
       "    <tr>\n",
       "      <th>2018-02-02</th>\n",
       "      <td>[30, 42, 51, 173, 43, 29, 28, 12, 21, 144, 35,...</td>\n",
       "    </tr>\n",
       "    <tr>\n",
       "      <th>2018-02-03</th>\n",
       "      <td>[11, 20, 91, 91, 12, 70, 10, 16, 20, 48, 25, 3...</td>\n",
       "    </tr>\n",
       "    <tr>\n",
       "      <th>2018-02-04</th>\n",
       "      <td>[13, 22, 86, 87, 12, 45, 21, 4, 19, 46, 28, 36...</td>\n",
       "    </tr>\n",
       "    <tr>\n",
       "      <th>2018-02-05</th>\n",
       "      <td>[14, 35, 180, 155, 21, 35, 39, 3, 16, 143, 23,...</td>\n",
       "    </tr>\n",
       "    <tr>\n",
       "      <th>...</th>\n",
       "      <td>...</td>\n",
       "    </tr>\n",
       "    <tr>\n",
       "      <th>2021-01-27</th>\n",
       "      <td>[6, 8, 50, 71, 24, 16, 17, 21, 5, 29, 60, 20, ...</td>\n",
       "    </tr>\n",
       "    <tr>\n",
       "      <th>2021-01-28</th>\n",
       "      <td>[0, 15, 44, 74, 41, 61, 18, 10, 9, 27, 64, 8, ...</td>\n",
       "    </tr>\n",
       "    <tr>\n",
       "      <th>2021-01-29</th>\n",
       "      <td>[4, 23, 37, 111, 35, 43, 39, 8, 16, 23, 72, 36...</td>\n",
       "    </tr>\n",
       "    <tr>\n",
       "      <th>2021-01-30</th>\n",
       "      <td>[1, 13, 23, 43, 18, 20, 13, 1, 3, 7, 24, 7, 17...</td>\n",
       "    </tr>\n",
       "    <tr>\n",
       "      <th>2021-01-31</th>\n",
       "      <td>[4, 8, 20, 37, 17, 29, 15, 0, 4, 7, 19, 12, 18...</td>\n",
       "    </tr>\n",
       "  </tbody>\n",
       "</table>\n",
       "<p>1097 rows × 1 columns</p>\n",
       "</div>"
      ],
      "text/plain": [
       "                                                       counts\n",
       "datetime                                                     \n",
       "2018-02-01  [19, 35, 53, 179, 26, 44, 22, 5, 22, 83, 22, 4...\n",
       "2018-02-02  [30, 42, 51, 173, 43, 29, 28, 12, 21, 144, 35,...\n",
       "2018-02-03  [11, 20, 91, 91, 12, 70, 10, 16, 20, 48, 25, 3...\n",
       "2018-02-04  [13, 22, 86, 87, 12, 45, 21, 4, 19, 46, 28, 36...\n",
       "2018-02-05  [14, 35, 180, 155, 21, 35, 39, 3, 16, 143, 23,...\n",
       "...                                                       ...\n",
       "2021-01-27  [6, 8, 50, 71, 24, 16, 17, 21, 5, 29, 60, 20, ...\n",
       "2021-01-28  [0, 15, 44, 74, 41, 61, 18, 10, 9, 27, 64, 8, ...\n",
       "2021-01-29  [4, 23, 37, 111, 35, 43, 39, 8, 16, 23, 72, 36...\n",
       "2021-01-30  [1, 13, 23, 43, 18, 20, 13, 1, 3, 7, 24, 7, 17...\n",
       "2021-01-31  [4, 8, 20, 37, 17, 29, 15, 0, 4, 7, 19, 12, 18...\n",
       "\n",
       "[1097 rows x 1 columns]"
      ]
     },
     "execution_count": 103,
     "metadata": {},
     "output_type": "execute_result"
    }
   ],
   "source": [
    "topics_count_df"
   ]
  },
  {
   "cell_type": "markdown",
   "metadata": {},
   "source": [
    "### need to repeat this step until we get data from: 02-01-2018 to 03-02-2021"
   ]
  },
  {
   "cell_type": "code",
   "execution_count": null,
   "metadata": {},
   "outputs": [],
   "source": []
  }
 ],
 "metadata": {
  "kernelspec": {
   "display_name": "Python 3",
   "language": "python",
   "name": "python3"
  },
  "language_info": {
   "codemirror_mode": {
    "name": "ipython",
    "version": 3
   },
   "file_extension": ".py",
   "mimetype": "text/x-python",
   "name": "python",
   "nbconvert_exporter": "python",
   "pygments_lexer": "ipython3",
   "version": "3.8.6"
  }
 },
 "nbformat": 4,
 "nbformat_minor": 4
}
