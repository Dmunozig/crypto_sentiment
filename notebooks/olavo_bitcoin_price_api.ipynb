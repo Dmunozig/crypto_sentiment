{
 "cells": [
  {
   "cell_type": "code",
   "execution_count": 41,
   "id": "narrative-compound",
   "metadata": {},
   "outputs": [],
   "source": [
    "import pandas as pd\n",
    "import requests\n",
    "import matplotlib.pyplot as plt"
   ]
  },
  {
   "cell_type": "code",
   "execution_count": 27,
   "id": "basic-bibliography",
   "metadata": {},
   "outputs": [],
   "source": [
    "\n",
    "first_url = \"https://api.coindesk.com/v1/bpi/historical/close.json?start=2018-01-01&end=2020-12-01\"\n",
    "first_batch = requests.get(first_url).json()\n",
    "second_url = \"https://api.coindesk.com/v1/bpi/historical/close.json?start=2020-09-26&end=2021-03-01\"\n",
    "second_batch = requests.get(second_url).json()"
   ]
  },
  {
   "cell_type": "code",
   "execution_count": 34,
   "id": "administrative-czech",
   "metadata": {},
   "outputs": [],
   "source": [
    "first_df = pd.DataFrame.from_dict(first_batch[\"bpi\"], orient='index')"
   ]
  },
  {
   "cell_type": "code",
   "execution_count": 35,
   "id": "completed-husband",
   "metadata": {},
   "outputs": [],
   "source": [
    "second_df = pd.DataFrame.from_dict(second_batch[\"bpi\"], orient='index')"
   ]
  },
  {
   "cell_type": "code",
   "execution_count": 36,
   "id": "boring-auckland",
   "metadata": {},
   "outputs": [],
   "source": [
    "vertical_stack = pd.concat([first_df, second_df], axis=0)"
   ]
  },
  {
   "cell_type": "code",
   "execution_count": 46,
   "id": "metric-conspiracy",
   "metadata": {},
   "outputs": [],
   "source": [
    "vertical_stack.to_csv(\"bitcoinprice.csv\")"
   ]
  }
 ],
 "metadata": {
  "kernelspec": {
   "display_name": "Python 3",
   "language": "python",
   "name": "python3"
  },
  "language_info": {
   "codemirror_mode": {
    "name": "ipython",
    "version": 3
   },
   "file_extension": ".py",
   "mimetype": "text/x-python",
   "name": "python",
   "nbconvert_exporter": "python",
   "pygments_lexer": "ipython3",
   "version": "3.8.6"
  },
  "toc": {
   "base_numbering": 1,
   "nav_menu": {},
   "number_sections": true,
   "sideBar": true,
   "skip_h1_title": false,
   "title_cell": "Table of Contents",
   "title_sidebar": "Contents",
   "toc_cell": false,
   "toc_position": {},
   "toc_section_display": true,
   "toc_window_display": false
  }
 },
 "nbformat": 4,
 "nbformat_minor": 5
}
