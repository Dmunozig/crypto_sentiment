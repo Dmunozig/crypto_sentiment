{
 "cells": [
  {
   "cell_type": "code",
   "execution_count": 2,
   "id": "increased-printing",
   "metadata": {},
   "outputs": [],
   "source": [
    "import numpy as np\n",
    "import pandas as pd \n",
    "import matplotlib.pyplot as plt\n",
    "from fbprophet import Prophet\n",
    "from fbprophet.diagnostics import cross_validation\n",
    "from fbprophet.diagnostics import performance_metrics\n",
    "import itertools"
   ]
  },
  {
   "cell_type": "markdown",
   "id": "white-genesis",
   "metadata": {},
   "source": [
    "# Data Importing"
   ]
  },
  {
   "cell_type": "code",
   "execution_count": 22,
   "id": "sonic-judgment",
   "metadata": {},
   "outputs": [],
   "source": [
    "df = pd.read_csv('../data/prices_greed_score_clean.csv')"
   ]
  },
  {
   "cell_type": "code",
   "execution_count": 117,
   "id": "small-girlfriend",
   "metadata": {},
   "outputs": [
    {
     "data": {
      "text/html": [
       "<div>\n",
       "<style scoped>\n",
       "    .dataframe tbody tr th:only-of-type {\n",
       "        vertical-align: middle;\n",
       "    }\n",
       "\n",
       "    .dataframe tbody tr th {\n",
       "        vertical-align: top;\n",
       "    }\n",
       "\n",
       "    .dataframe thead th {\n",
       "        text-align: right;\n",
       "    }\n",
       "</style>\n",
       "<table border=\"1\" class=\"dataframe\">\n",
       "  <thead>\n",
       "    <tr style=\"text-align: right;\">\n",
       "      <th></th>\n",
       "      <th>date</th>\n",
       "      <th>price</th>\n",
       "      <th>Fear&amp;Greed</th>\n",
       "    </tr>\n",
       "  </thead>\n",
       "  <tbody>\n",
       "    <tr>\n",
       "      <th>0</th>\n",
       "      <td>2018-02-01</td>\n",
       "      <td>9052.5763</td>\n",
       "      <td>30</td>\n",
       "    </tr>\n",
       "    <tr>\n",
       "      <th>1</th>\n",
       "      <td>2018-02-02</td>\n",
       "      <td>8827.6300</td>\n",
       "      <td>15</td>\n",
       "    </tr>\n",
       "    <tr>\n",
       "      <th>2</th>\n",
       "      <td>2018-02-03</td>\n",
       "      <td>9224.3913</td>\n",
       "      <td>40</td>\n",
       "    </tr>\n",
       "    <tr>\n",
       "      <th>3</th>\n",
       "      <td>2018-02-04</td>\n",
       "      <td>8186.6488</td>\n",
       "      <td>24</td>\n",
       "    </tr>\n",
       "    <tr>\n",
       "      <th>4</th>\n",
       "      <td>2018-02-05</td>\n",
       "      <td>6914.2600</td>\n",
       "      <td>11</td>\n",
       "    </tr>\n",
       "    <tr>\n",
       "      <th>...</th>\n",
       "      <td>...</td>\n",
       "      <td>...</td>\n",
       "      <td>...</td>\n",
       "    </tr>\n",
       "    <tr>\n",
       "      <th>1117</th>\n",
       "      <td>2021-02-25</td>\n",
       "      <td>47104.7833</td>\n",
       "      <td>79</td>\n",
       "    </tr>\n",
       "    <tr>\n",
       "      <th>1118</th>\n",
       "      <td>2021-02-26</td>\n",
       "      <td>46329.7400</td>\n",
       "      <td>55</td>\n",
       "    </tr>\n",
       "    <tr>\n",
       "      <th>1119</th>\n",
       "      <td>2021-02-27</td>\n",
       "      <td>46189.3783</td>\n",
       "      <td>56</td>\n",
       "    </tr>\n",
       "    <tr>\n",
       "      <th>1120</th>\n",
       "      <td>2021-02-28</td>\n",
       "      <td>45256.4133</td>\n",
       "      <td>55</td>\n",
       "    </tr>\n",
       "    <tr>\n",
       "      <th>1121</th>\n",
       "      <td>2021-03-01</td>\n",
       "      <td>49619.6433</td>\n",
       "      <td>38</td>\n",
       "    </tr>\n",
       "  </tbody>\n",
       "</table>\n",
       "<p>1122 rows × 3 columns</p>\n",
       "</div>"
      ],
      "text/plain": [
       "            date       price  Fear&Greed\n",
       "0     2018-02-01   9052.5763          30\n",
       "1     2018-02-02   8827.6300          15\n",
       "2     2018-02-03   9224.3913          40\n",
       "3     2018-02-04   8186.6488          24\n",
       "4     2018-02-05   6914.2600          11\n",
       "...          ...         ...         ...\n",
       "1117  2021-02-25  47104.7833          79\n",
       "1118  2021-02-26  46329.7400          55\n",
       "1119  2021-02-27  46189.3783          56\n",
       "1120  2021-02-28  45256.4133          55\n",
       "1121  2021-03-01  49619.6433          38\n",
       "\n",
       "[1122 rows x 3 columns]"
      ]
     },
     "execution_count": 117,
     "metadata": {},
     "output_type": "execute_result"
    }
   ],
   "source": [
    "df"
   ]
  },
  {
   "cell_type": "markdown",
   "id": "controversial-image",
   "metadata": {
    "heading_collapsed": true
   },
   "source": [
    "# ARIMA exploration"
   ]
  },
  {
   "cell_type": "code",
   "execution_count": 43,
   "id": "enormous-theater",
   "metadata": {
    "hidden": true
   },
   "outputs": [
    {
     "data": {
      "text/plain": [
       "(2862,)"
      ]
     },
     "execution_count": 43,
     "metadata": {},
     "output_type": "execute_result"
    }
   ],
   "source": [
    "y = df['price']\n",
    "y.shape"
   ]
  },
  {
   "cell_type": "code",
   "execution_count": 42,
   "id": "pending-algebra",
   "metadata": {
    "hidden": true
   },
   "outputs": [
    {
     "name": "stdout",
     "output_type": "stream",
     "text": [
      "p-value:  2.5264145709226113e-08\n"
     ]
    }
   ],
   "source": [
    "from statsmodels.tsa.stattools import adfuller\n",
    "print('p-value: ', adfuller(y)[1])"
   ]
  },
  {
   "cell_type": "code",
   "execution_count": 45,
   "id": "periodic-detroit",
   "metadata": {
    "hidden": true
   },
   "outputs": [
    {
     "name": "stdout",
     "output_type": "stream",
     "text": [
      "p-value:  2.0357146227314016e-23\n"
     ]
    }
   ],
   "source": [
    "# First diff\n",
    "print('p-value: ', adfuller(y.diff(1).fillna(0))[1])"
   ]
  },
  {
   "cell_type": "code",
   "execution_count": 51,
   "id": "cognitive-maria",
   "metadata": {
    "hidden": true
   },
   "outputs": [
    {
     "data": {
      "image/png": "[encoded data removed]",
      "text/plain": [
       "<Figure size 936x720 with 9 Axes>"
      ]
     },
     "metadata": {
      "needs_background": "light"
     },
     "output_type": "display_data"
    }
   ],
   "source": [
    "from statsmodels.graphics.tsaplots import plot_acf, plot_pacf\n",
    "\n",
    "# Original Series\n",
    "fig, axes = plt.subplots(3, 3, figsize=(13,10))\n",
    "axes[0, 0].plot(y); axes[0, 0].set_title('Original Series')\n",
    "plot_acf(y, ax=axes[0, 1])\n",
    "plot_pacf(y, ax=axes[0, 2],c='r')\n",
    "\n",
    "# 1st Differencing\n",
    "axes[1, 0].plot(y.diff()); axes[1, 0].set_title('1st Order Differencing')\n",
    "plot_acf(y.diff().dropna(), ax=axes[1, 1])\n",
    "plot_pacf(y.diff().dropna(), ax=axes[1, 2],c='r')\n",
    "\n",
    "# 2nd Differencing\n",
    "axes[2, 0].plot(y.diff().diff()); axes[2, 0].set_title('2nd Order Differencing')\n",
    "plot_acf(y.diff().diff().dropna(), ax=axes[2, 1])\n",
    "plot_pacf(y.diff().diff().dropna(), ax=axes[2, 2],c='r')\n",
    "\n",
    "plt.show()"
   ]
  },
  {
   "cell_type": "code",
   "execution_count": 56,
   "id": "broke-kernel",
   "metadata": {
    "hidden": true
   },
   "outputs": [
    {
     "name": "stderr",
     "output_type": "stream",
     "text": [
      "/home/diego/.pyenv/versions/3.8.6/envs/lewagon/lib/python3.8/site-packages/statsmodels/tsa/base/tsa_model.py:159: ValueWarning: No frequency information was provided, so inferred frequency -1D will be used.\n",
      "  warnings.warn('No frequency information was'\n",
      "/home/diego/.pyenv/versions/3.8.6/envs/lewagon/lib/python3.8/site-packages/statsmodels/tsa/base/tsa_model.py:220: ValueWarning: A date index has been provided, but it is not monotonic and so will be ignored when e.g. forecasting.\n",
      "  warnings.warn('A date index has been provided, but it is not'\n",
      "/home/diego/.pyenv/versions/3.8.6/envs/lewagon/lib/python3.8/site-packages/statsmodels/tsa/base/tsa_model.py:159: ValueWarning: No frequency information was provided, so inferred frequency -1D will be used.\n",
      "  warnings.warn('No frequency information was'\n",
      "/home/diego/.pyenv/versions/3.8.6/envs/lewagon/lib/python3.8/site-packages/statsmodels/tsa/base/tsa_model.py:220: ValueWarning: A date index has been provided, but it is not monotonic and so will be ignored when e.g. forecasting.\n",
      "  warnings.warn('A date index has been provided, but it is not'\n"
     ]
    },
    {
     "data": {
      "text/html": [
       "<table class=\"simpletable\">\n",
       "<caption>ARIMA Model Results</caption>\n",
       "<tr>\n",
       "  <th>Dep. Variable:</th>      <td>D.Close</td>     <th>  No. Observations:  </th>    <td>2861</td>   \n",
       "</tr>\n",
       "<tr>\n",
       "  <th>Model:</th>          <td>ARIMA(1, 1, 1)</td>  <th>  Log Likelihood     </th> <td>-21260.233</td>\n",
       "</tr>\n",
       "<tr>\n",
       "  <th>Method:</th>             <td>css-mle</td>     <th>  S.D. of innovations</th>   <td>408.343</td> \n",
       "</tr>\n",
       "<tr>\n",
       "  <th>Date:</th>          <td>Wed, 03 Mar 2021</td> <th>  AIC                </th>  <td>42528.465</td>\n",
       "</tr>\n",
       "<tr>\n",
       "  <th>Time:</th>              <td>13:09:58</td>     <th>  BIC                </th>  <td>42552.301</td>\n",
       "</tr>\n",
       "<tr>\n",
       "  <th>Sample:</th>                <td>1</td>        <th>  HQIC               </th>  <td>42537.060</td>\n",
       "</tr>\n",
       "<tr>\n",
       "  <th></th>                       <td> </td>        <th>                     </th>      <td> </td>    \n",
       "</tr>\n",
       "</table>\n",
       "<table class=\"simpletable\">\n",
       "<tr>\n",
       "        <td></td>           <th>coef</th>     <th>std err</th>      <th>z</th>      <th>P>|z|</th>  <th>[0.025</th>    <th>0.975]</th>  \n",
       "</tr>\n",
       "<tr>\n",
       "  <th>const</th>         <td>  -15.7360</td> <td>    9.707</td> <td>   -1.621</td> <td> 0.105</td> <td>  -34.761</td> <td>    3.289</td>\n",
       "</tr>\n",
       "<tr>\n",
       "  <th>ar.L1.D.Close</th> <td>    0.8569</td> <td>    0.049</td> <td>   17.530</td> <td> 0.000</td> <td>    0.761</td> <td>    0.953</td>\n",
       "</tr>\n",
       "<tr>\n",
       "  <th>ma.L1.D.Close</th> <td>   -0.8180</td> <td>    0.054</td> <td>  -15.165</td> <td> 0.000</td> <td>   -0.924</td> <td>   -0.712</td>\n",
       "</tr>\n",
       "</table>\n",
       "<table class=\"simpletable\">\n",
       "<caption>Roots</caption>\n",
       "<tr>\n",
       "    <td></td>   <th>            Real</th>  <th>         Imaginary</th> <th>         Modulus</th>  <th>        Frequency</th>\n",
       "</tr>\n",
       "<tr>\n",
       "  <th>AR.1</th> <td>           1.1669</td> <td>          +0.0000j</td> <td>           1.1669</td> <td>           0.0000</td>\n",
       "</tr>\n",
       "<tr>\n",
       "  <th>MA.1</th> <td>           1.2225</td> <td>          +0.0000j</td> <td>           1.2225</td> <td>           0.0000</td>\n",
       "</tr>\n",
       "</table>"
      ],
      "text/plain": [
       "<class 'statsmodels.iolib.summary.Summary'>\n",
       "\"\"\"\n",
       "                             ARIMA Model Results                              \n",
       "==============================================================================\n",
       "Dep. Variable:                D.Close   No. Observations:                 2861\n",
       "Model:                 ARIMA(1, 1, 1)   Log Likelihood              -21260.233\n",
       "Method:                       css-mle   S.D. of innovations            408.343\n",
       "Date:                Wed, 03 Mar 2021   AIC                          42528.465\n",
       "Time:                        13:09:58   BIC                          42552.301\n",
       "Sample:                             1   HQIC                         42537.060\n",
       "                                                                              \n",
       "=================================================================================\n",
       "                    coef    std err          z      P>|z|      [0.025      0.975]\n",
       "---------------------------------------------------------------------------------\n",
       "const           -15.7360      9.707     -1.621      0.105     -34.761       3.289\n",
       "ar.L1.D.Close     0.8569      0.049     17.530      0.000       0.761       0.953\n",
       "ma.L1.D.Close    -0.8180      0.054    -15.165      0.000      -0.924      -0.712\n",
       "                                    Roots                                    \n",
       "=============================================================================\n",
       "                  Real          Imaginary           Modulus         Frequency\n",
       "-----------------------------------------------------------------------------\n",
       "AR.1            1.1669           +0.0000j            1.1669            0.0000\n",
       "MA.1            1.2225           +0.0000j            1.2225            0.0000\n",
       "-----------------------------------------------------------------------------\n",
       "\"\"\""
      ]
     },
     "execution_count": 56,
     "metadata": {},
     "output_type": "execute_result"
    }
   ],
   "source": [
    "from statsmodels.tsa.arima_model import ARIMA\n",
    "\n",
    "# 1. initialize the model\n",
    "arima = ARIMA(y, order=(1, 1, 1))\n",
    "\n",
    "# 2. fit the models\n",
    "arima = arima.fit()\n",
    "\n",
    "arima.summary()"
   ]
  },
  {
   "cell_type": "code",
   "execution_count": 57,
   "id": "exclusive-merchandise",
   "metadata": {
    "hidden": true
   },
   "outputs": [
    {
     "data": {
      "image/png": "[encoded data removed]",
      "text/plain": [
       "<Figure size 432x288 with 1 Axes>"
      ]
     },
     "metadata": {
      "needs_background": "light"
     },
     "output_type": "display_data"
    }
   ],
   "source": [
    "# Actual vs Fitted\n",
    "arima.plot_predict(dynamic=False);"
   ]
  },
  {
   "cell_type": "code",
   "execution_count": 74,
   "id": "continuous-sullivan",
   "metadata": {
    "hidden": true
   },
   "outputs": [
    {
     "data": {
      "image/png": "[encoded data removed]",
      "text/plain": [
       "<Figure size 432x288 with 1 Axes>"
      ]
     },
     "metadata": {
      "needs_background": "light"
     },
     "output_type": "display_data"
    }
   ],
   "source": [
    "arima.plot_predict(10, 500, dynamic=True);"
   ]
  },
  {
   "cell_type": "markdown",
   "id": "continental-tattoo",
   "metadata": {},
   "source": [
    "# Prophet Basic"
   ]
  },
  {
   "cell_type": "code",
   "execution_count": 41,
   "id": "unknown-michigan",
   "metadata": {},
   "outputs": [],
   "source": [
    "# Most of this run is taken from Olavo's first prophet model"
   ]
  },
  {
   "cell_type": "markdown",
   "id": "hired-switch",
   "metadata": {},
   "source": [
    "Prophet is a procedure for forecasting time series data based on an **additive model** where non-linear trends are fit with yearly, weekly, and daily seasonality, plus holiday effects. ... Prophet is robust to missing data and shifts in the trend, and typically handles outliers well."
   ]
  },
  {
   "cell_type": "markdown",
   "id": "american-catalog",
   "metadata": {},
   "source": [
    "If the seasonality and residual components are independent of the trend, then you have an **additive series**. If the seasonality and residual components are in fact dependent, meaning they fluctuate on trend, then you have a **multiplicative series**."
   ]
  },
  {
   "cell_type": "markdown",
   "id": "animal-assurance",
   "metadata": {},
   "source": [
    "!!! Prophet is addtive by *default* but it can be changed through parameter\n",
    "> seasonality_mode: 'additive' (default) or 'multiplicative'."
   ]
  },
  {
   "cell_type": "markdown",
   "id": "capable-bandwidth",
   "metadata": {},
   "source": [
    "The Prophet uses a decomposable time series model with three main model components: trend, seasonality, and holidays. They are combined in the following equation:\n",
    ">- y(t)= g(t) + s(t) + h(t) + εt\n",
    ">- g(t): piecewise linear or logistic growth curve for modeling non-periodic changes in time series\n",
    ">- s(t): periodic changes (e.g. weekly/yearly seasonality)\n",
    ">- h(t): effects of holidays (user provided) with irregular schedules\n",
    ">- εt: error term accounts for any unusual changes not accommodated by the model\n",
    "\n",
    "Using time as a regressor, **Prophet is trying to fit several linear and non linear functions of time as components.** Modeling seasonality as an additive component is the same approach taken by exponential smoothing in Holt-Winters technique . Prophet is framing the forecasting problem as a curve-fitting exercise rather than looking explicitly at the time based dependence of each observation within a time series."
   ]
  },
  {
   "cell_type": "code",
   "execution_count": 30,
   "id": "rolled-indication",
   "metadata": {},
   "outputs": [],
   "source": [
    "df_basic = df.drop(columns='Fear&Greed')"
   ]
  },
  {
   "cell_type": "code",
   "execution_count": 31,
   "id": "affiliated-vaccine",
   "metadata": {},
   "outputs": [],
   "source": [
    "df_basic = df_basic.rename(columns={\"date\": \"ds\",\"price\":\"y\"})"
   ]
  },
  {
   "cell_type": "code",
   "execution_count": 32,
   "id": "defined-alexander",
   "metadata": {},
   "outputs": [
    {
     "data": {
      "text/plain": [
       "ds    datetime64[ns]\n",
       "y            float64\n",
       "dtype: object"
      ]
     },
     "execution_count": 32,
     "metadata": {},
     "output_type": "execute_result"
    }
   ],
   "source": [
    "df_basic['ds'] = pd.to_datetime(df_basic['ds'])\n",
    "df_basic.dtypes"
   ]
  },
  {
   "cell_type": "code",
   "execution_count": 33,
   "id": "dirty-registrar",
   "metadata": {},
   "outputs": [
    {
     "data": {
      "image/png": "[encoded data removed]",
      "text/plain": [
       "<Figure size 864x576 with 1 Axes>"
      ]
     },
     "metadata": {
      "needs_background": "light"
     },
     "output_type": "display_data"
    }
   ],
   "source": [
    "plt.figure(figsize=(12, 8))\n",
    "plt.grid(linestyle='-.')\n",
    "\n",
    "plt.plot(df_basic['ds'], df_basic['y'], 'b')\n",
    "plt.show()"
   ]
  },
  {
   "cell_type": "code",
   "execution_count": 137,
   "id": "constant-arbitration",
   "metadata": {},
   "outputs": [],
   "source": [
    "# train/test split.\n",
    "train = df_basic.iloc[:1066]\n",
    "test = df_basic.iloc[1066:]"
   ]
  },
  {
   "cell_type": "code",
   "execution_count": 73,
   "id": "incorrect-filter",
   "metadata": {},
   "outputs": [
    {
     "data": {
      "text/plain": [
       "(1122, 2)"
      ]
     },
     "execution_count": 73,
     "metadata": {},
     "output_type": "execute_result"
    }
   ],
   "source": [
    "df_basic.shape"
   ]
  },
  {
   "cell_type": "markdown",
   "id": "expensive-convergence",
   "metadata": {},
   "source": [
    "## Basic model, no input paramters"
   ]
  },
  {
   "cell_type": "markdown",
   "id": "amended-relief",
   "metadata": {},
   "source": [
    "Prophet’s API is very similar to sklearn’s API; first we create a model, then .fit(our data), and, finally, make a forecast. The input to the fit method is a DataFrame with two columns:\n",
    ">- ds (‘datestamp’) must be of type date or datetime\n",
    ">- y is a measured (numeric) value to be predicted"
   ]
  },
  {
   "cell_type": "code",
   "execution_count": 35,
   "id": "rocky-company",
   "metadata": {},
   "outputs": [
    {
     "name": "stderr",
     "output_type": "stream",
     "text": [
      "INFO:fbprophet:Disabling daily seasonality. Run prophet with daily_seasonality=True to override this.\n"
     ]
    },
    {
     "data": {
      "text/plain": [
       "<fbprophet.forecaster.Prophet at 0x7fe8c2bed430>"
      ]
     },
     "execution_count": 35,
     "metadata": {},
     "output_type": "execute_result"
    }
   ],
   "source": [
    "# This is the basic prophet model, consider using some more inputs\n",
    "model = Prophet()\n",
    "model.fit(train)"
   ]
  },
  {
   "cell_type": "code",
   "execution_count": 36,
   "id": "multiple-oxford",
   "metadata": {},
   "outputs": [],
   "source": [
    "horizon = 30\n",
    "future = model.make_future_dataframe(horizon) #build a dataframe on which to fit daily predictions \n",
    "forecast = model.predict(future)"
   ]
  },
  {
   "cell_type": "code",
   "execution_count": 38,
   "id": "growing-shoot",
   "metadata": {},
   "outputs": [
    {
     "data": {
      "text/plain": [
       "<matplotlib.legend.Legend at 0x7fe8a03defd0>"
      ]
     },
     "execution_count": 38,
     "metadata": {},
     "output_type": "execute_result"
    },
    {
     "data": {
      "image/png": "[encoded data removed]",
      "text/plain": [
       "<Figure size 432x288 with 1 Axes>"
      ]
     },
     "metadata": {
      "needs_background": "light"
     },
     "output_type": "display_data"
    }
   ],
   "source": [
    "plt.plot(df_basic[\"y\"], label=\"actual\")\n",
    "plt.plot(forecast[\"yhat\"], label=\"pred\")\n",
    "plt.legend()"
   ]
  },
  {
   "cell_type": "code",
   "execution_count": 39,
   "id": "better-order",
   "metadata": {},
   "outputs": [
    {
     "data": {
      "text/plain": [
       "<matplotlib.legend.Legend at 0x7fe8c2c639a0>"
      ]
     },
     "execution_count": 39,
     "metadata": {},
     "output_type": "execute_result"
    },
    {
     "data": {
      "image/png": "[encoded data removed]",
      "text/plain": [
       "<Figure size 432x288 with 1 Axes>"
      ]
     },
     "metadata": {
      "needs_background": "light"
     },
     "output_type": "display_data"
    }
   ],
   "source": [
    "plt.plot(train['ds'], train['y'], label=\"Train\")\n",
    "plt.plot(test['ds'], test['y'], label=\"Test\")\n",
    "plt.plot(forecast[-horizon:]['ds'], forecast[-horizon:]['yhat'], label=\"predictions\")\n",
    "plt.legend(loc=\"best\")"
   ]
  },
  {
   "cell_type": "code",
   "execution_count": 40,
   "id": "faced-fireplace",
   "metadata": {},
   "outputs": [
    {
     "data": {
      "image/png": "[encoded data removed]",
      "text/plain": [
       "<Figure size 648x648 with 3 Axes>"
      ]
     },
     "metadata": {},
     "output_type": "display_data"
    }
   ],
   "source": [
    "model.plot_components(forecast);"
   ]
  },
  {
   "cell_type": "code",
   "execution_count": 42,
   "id": "partial-tonight",
   "metadata": {},
   "outputs": [
    {
     "name": "stderr",
     "output_type": "stream",
     "text": [
      "INFO:fbprophet:Making 20 forecasts with cutoffs between 2019-02-09 00:00:00 and 2020-12-05 00:00:00\n",
      "WARNING:fbprophet:Seasonality has period of 365.25 days which is larger than initial window. Consider increasing initial.\n"
     ]
    },
    {
     "data": {
      "application/vnd.jupyter.widget-view+json": {
       "model_id": "271c2e3f1e60437db320a1a52ed217a8",
       "version_major": 2,
       "version_minor": 0
      },
      "text/plain": [
       "  0%|          | 0/20 [00:00<?, ?it/s]"
      ]
     },
     "metadata": {},
     "output_type": "display_data"
    }
   ],
   "source": [
    "cv_results = cross_validation(model=model, initial=f'{70 * 5} days', horizon='30 days',\n",
    "                              period='35 days')"
   ]
  },
  {
   "cell_type": "code",
   "execution_count": 47,
   "id": "nasty-shield",
   "metadata": {},
   "outputs": [
    {
     "data": {
      "text/html": [
       "<div>\n",
       "<style scoped>\n",
       "    .dataframe tbody tr th:only-of-type {\n",
       "        vertical-align: middle;\n",
       "    }\n",
       "\n",
       "    .dataframe tbody tr th {\n",
       "        vertical-align: top;\n",
       "    }\n",
       "\n",
       "    .dataframe thead th {\n",
       "        text-align: right;\n",
       "    }\n",
       "</style>\n",
       "<table border=\"1\" class=\"dataframe\">\n",
       "  <thead>\n",
       "    <tr style=\"text-align: right;\">\n",
       "      <th></th>\n",
       "      <th>ds</th>\n",
       "      <th>yhat</th>\n",
       "      <th>yhat_lower</th>\n",
       "      <th>yhat_upper</th>\n",
       "      <th>y</th>\n",
       "      <th>cutoff</th>\n",
       "    </tr>\n",
       "  </thead>\n",
       "  <tbody>\n",
       "    <tr>\n",
       "      <th>0</th>\n",
       "      <td>2019-02-10</td>\n",
       "      <td>4013.076085</td>\n",
       "      <td>3559.058590</td>\n",
       "      <td>4497.233398</td>\n",
       "      <td>3681.0517</td>\n",
       "      <td>2019-02-09</td>\n",
       "    </tr>\n",
       "    <tr>\n",
       "      <th>1</th>\n",
       "      <td>2019-02-11</td>\n",
       "      <td>4144.257207</td>\n",
       "      <td>3659.069033</td>\n",
       "      <td>4645.256847</td>\n",
       "      <td>3621.0283</td>\n",
       "      <td>2019-02-09</td>\n",
       "    </tr>\n",
       "    <tr>\n",
       "      <th>2</th>\n",
       "      <td>2019-02-12</td>\n",
       "      <td>4289.635810</td>\n",
       "      <td>3803.775543</td>\n",
       "      <td>4777.064016</td>\n",
       "      <td>3622.7133</td>\n",
       "      <td>2019-02-09</td>\n",
       "    </tr>\n",
       "    <tr>\n",
       "      <th>3</th>\n",
       "      <td>2019-02-13</td>\n",
       "      <td>4348.422777</td>\n",
       "      <td>3841.752238</td>\n",
       "      <td>4848.354239</td>\n",
       "      <td>3605.3133</td>\n",
       "      <td>2019-02-09</td>\n",
       "    </tr>\n",
       "    <tr>\n",
       "      <th>4</th>\n",
       "      <td>2019-02-14</td>\n",
       "      <td>4518.006407</td>\n",
       "      <td>4039.275014</td>\n",
       "      <td>4968.089793</td>\n",
       "      <td>3592.9100</td>\n",
       "      <td>2019-02-09</td>\n",
       "    </tr>\n",
       "  </tbody>\n",
       "</table>\n",
       "</div>"
      ],
      "text/plain": [
       "          ds         yhat   yhat_lower   yhat_upper          y     cutoff\n",
       "0 2019-02-10  4013.076085  3559.058590  4497.233398  3681.0517 2019-02-09\n",
       "1 2019-02-11  4144.257207  3659.069033  4645.256847  3621.0283 2019-02-09\n",
       "2 2019-02-12  4289.635810  3803.775543  4777.064016  3622.7133 2019-02-09\n",
       "3 2019-02-13  4348.422777  3841.752238  4848.354239  3605.3133 2019-02-09\n",
       "4 2019-02-14  4518.006407  4039.275014  4968.089793  3592.9100 2019-02-09"
      ]
     },
     "execution_count": 47,
     "metadata": {},
     "output_type": "execute_result"
    }
   ],
   "source": [
    "cv_results.head()"
   ]
  },
  {
   "cell_type": "code",
   "execution_count": 44,
   "id": "representative-pontiac",
   "metadata": {
    "scrolled": true
   },
   "outputs": [
    {
     "data": {
      "text/html": [
       "<div>\n",
       "<style scoped>\n",
       "    .dataframe tbody tr th:only-of-type {\n",
       "        vertical-align: middle;\n",
       "    }\n",
       "\n",
       "    .dataframe tbody tr th {\n",
       "        vertical-align: top;\n",
       "    }\n",
       "\n",
       "    .dataframe thead th {\n",
       "        text-align: right;\n",
       "    }\n",
       "</style>\n",
       "<table border=\"1\" class=\"dataframe\">\n",
       "  <thead>\n",
       "    <tr style=\"text-align: right;\">\n",
       "      <th></th>\n",
       "      <th>horizon</th>\n",
       "      <th>mse</th>\n",
       "      <th>rmse</th>\n",
       "      <th>mae</th>\n",
       "      <th>mape</th>\n",
       "      <th>mdape</th>\n",
       "      <th>coverage</th>\n",
       "    </tr>\n",
       "  </thead>\n",
       "  <tbody>\n",
       "    <tr>\n",
       "      <th>0</th>\n",
       "      <td>3 days</td>\n",
       "      <td>1.481632e+06</td>\n",
       "      <td>1217.223165</td>\n",
       "      <td>950.268183</td>\n",
       "      <td>0.105322</td>\n",
       "      <td>0.089207</td>\n",
       "      <td>0.583333</td>\n",
       "    </tr>\n",
       "    <tr>\n",
       "      <th>1</th>\n",
       "      <td>4 days</td>\n",
       "      <td>1.543027e+06</td>\n",
       "      <td>1242.186562</td>\n",
       "      <td>1002.663531</td>\n",
       "      <td>0.112795</td>\n",
       "      <td>0.089583</td>\n",
       "      <td>0.500000</td>\n",
       "    </tr>\n",
       "    <tr>\n",
       "      <th>2</th>\n",
       "      <td>5 days</td>\n",
       "      <td>1.692824e+06</td>\n",
       "      <td>1301.085528</td>\n",
       "      <td>1058.187379</td>\n",
       "      <td>0.121114</td>\n",
       "      <td>0.093265</td>\n",
       "      <td>0.466667</td>\n",
       "    </tr>\n",
       "    <tr>\n",
       "      <th>3</th>\n",
       "      <td>6 days</td>\n",
       "      <td>1.887478e+06</td>\n",
       "      <td>1373.855196</td>\n",
       "      <td>1117.647851</td>\n",
       "      <td>0.129680</td>\n",
       "      <td>0.105512</td>\n",
       "      <td>0.466667</td>\n",
       "    </tr>\n",
       "    <tr>\n",
       "      <th>4</th>\n",
       "      <td>7 days</td>\n",
       "      <td>2.030495e+06</td>\n",
       "      <td>1424.954270</td>\n",
       "      <td>1149.800619</td>\n",
       "      <td>0.136431</td>\n",
       "      <td>0.110697</td>\n",
       "      <td>0.483333</td>\n",
       "    </tr>\n",
       "    <tr>\n",
       "      <th>5</th>\n",
       "      <td>8 days</td>\n",
       "      <td>2.321086e+06</td>\n",
       "      <td>1523.511009</td>\n",
       "      <td>1225.991968</td>\n",
       "      <td>0.146304</td>\n",
       "      <td>0.116225</td>\n",
       "      <td>0.450000</td>\n",
       "    </tr>\n",
       "    <tr>\n",
       "      <th>6</th>\n",
       "      <td>9 days</td>\n",
       "      <td>2.617708e+06</td>\n",
       "      <td>1617.933145</td>\n",
       "      <td>1311.565593</td>\n",
       "      <td>0.155906</td>\n",
       "      <td>0.130579</td>\n",
       "      <td>0.383333</td>\n",
       "    </tr>\n",
       "    <tr>\n",
       "      <th>7</th>\n",
       "      <td>10 days</td>\n",
       "      <td>2.928514e+06</td>\n",
       "      <td>1711.290274</td>\n",
       "      <td>1413.815594</td>\n",
       "      <td>0.166041</td>\n",
       "      <td>0.131852</td>\n",
       "      <td>0.333333</td>\n",
       "    </tr>\n",
       "    <tr>\n",
       "      <th>8</th>\n",
       "      <td>11 days</td>\n",
       "      <td>3.541103e+06</td>\n",
       "      <td>1881.781977</td>\n",
       "      <td>1552.014672</td>\n",
       "      <td>0.179274</td>\n",
       "      <td>0.152807</td>\n",
       "      <td>0.250000</td>\n",
       "    </tr>\n",
       "    <tr>\n",
       "      <th>9</th>\n",
       "      <td>12 days</td>\n",
       "      <td>4.904744e+06</td>\n",
       "      <td>2214.665691</td>\n",
       "      <td>1733.173942</td>\n",
       "      <td>0.202585</td>\n",
       "      <td>0.155691</td>\n",
       "      <td>0.216667</td>\n",
       "    </tr>\n",
       "    <tr>\n",
       "      <th>10</th>\n",
       "      <td>13 days</td>\n",
       "      <td>6.147265e+06</td>\n",
       "      <td>2479.367898</td>\n",
       "      <td>1866.838144</td>\n",
       "      <td>0.216834</td>\n",
       "      <td>0.157582</td>\n",
       "      <td>0.200000</td>\n",
       "    </tr>\n",
       "    <tr>\n",
       "      <th>11</th>\n",
       "      <td>14 days</td>\n",
       "      <td>7.128441e+06</td>\n",
       "      <td>2669.913965</td>\n",
       "      <td>1938.566197</td>\n",
       "      <td>0.226068</td>\n",
       "      <td>0.157582</td>\n",
       "      <td>0.250000</td>\n",
       "    </tr>\n",
       "    <tr>\n",
       "      <th>12</th>\n",
       "      <td>15 days</td>\n",
       "      <td>7.302735e+06</td>\n",
       "      <td>2702.357362</td>\n",
       "      <td>1964.410074</td>\n",
       "      <td>0.226440</td>\n",
       "      <td>0.159719</td>\n",
       "      <td>0.250000</td>\n",
       "    </tr>\n",
       "    <tr>\n",
       "      <th>13</th>\n",
       "      <td>16 days</td>\n",
       "      <td>7.486285e+06</td>\n",
       "      <td>2736.107727</td>\n",
       "      <td>2014.532771</td>\n",
       "      <td>0.235681</td>\n",
       "      <td>0.166332</td>\n",
       "      <td>0.216667</td>\n",
       "    </tr>\n",
       "    <tr>\n",
       "      <th>14</th>\n",
       "      <td>17 days</td>\n",
       "      <td>8.170351e+06</td>\n",
       "      <td>2858.382614</td>\n",
       "      <td>2145.514515</td>\n",
       "      <td>0.250033</td>\n",
       "      <td>0.180669</td>\n",
       "      <td>0.166667</td>\n",
       "    </tr>\n",
       "    <tr>\n",
       "      <th>15</th>\n",
       "      <td>18 days</td>\n",
       "      <td>8.787323e+06</td>\n",
       "      <td>2964.341917</td>\n",
       "      <td>2260.228273</td>\n",
       "      <td>0.260541</td>\n",
       "      <td>0.197072</td>\n",
       "      <td>0.150000</td>\n",
       "    </tr>\n",
       "    <tr>\n",
       "      <th>16</th>\n",
       "      <td>19 days</td>\n",
       "      <td>9.482332e+06</td>\n",
       "      <td>3079.339588</td>\n",
       "      <td>2364.648684</td>\n",
       "      <td>0.264096</td>\n",
       "      <td>0.196305</td>\n",
       "      <td>0.166667</td>\n",
       "    </tr>\n",
       "    <tr>\n",
       "      <th>17</th>\n",
       "      <td>20 days</td>\n",
       "      <td>9.956731e+06</td>\n",
       "      <td>3155.428790</td>\n",
       "      <td>2414.454899</td>\n",
       "      <td>0.262146</td>\n",
       "      <td>0.185842</td>\n",
       "      <td>0.166667</td>\n",
       "    </tr>\n",
       "    <tr>\n",
       "      <th>18</th>\n",
       "      <td>21 days</td>\n",
       "      <td>1.103542e+07</td>\n",
       "      <td>3321.960073</td>\n",
       "      <td>2472.741520</td>\n",
       "      <td>0.258745</td>\n",
       "      <td>0.182207</td>\n",
       "      <td>0.183333</td>\n",
       "    </tr>\n",
       "    <tr>\n",
       "      <th>19</th>\n",
       "      <td>22 days</td>\n",
       "      <td>1.209396e+07</td>\n",
       "      <td>3477.637063</td>\n",
       "      <td>2552.019598</td>\n",
       "      <td>0.262873</td>\n",
       "      <td>0.191117</td>\n",
       "      <td>0.183333</td>\n",
       "    </tr>\n",
       "    <tr>\n",
       "      <th>20</th>\n",
       "      <td>23 days</td>\n",
       "      <td>1.281337e+07</td>\n",
       "      <td>3579.576836</td>\n",
       "      <td>2602.031717</td>\n",
       "      <td>0.263894</td>\n",
       "      <td>0.198558</td>\n",
       "      <td>0.166667</td>\n",
       "    </tr>\n",
       "    <tr>\n",
       "      <th>21</th>\n",
       "      <td>24 days</td>\n",
       "      <td>1.340493e+07</td>\n",
       "      <td>3661.274246</td>\n",
       "      <td>2689.089447</td>\n",
       "      <td>0.268659</td>\n",
       "      <td>0.212670</td>\n",
       "      <td>0.133333</td>\n",
       "    </tr>\n",
       "    <tr>\n",
       "      <th>22</th>\n",
       "      <td>25 days</td>\n",
       "      <td>1.451836e+07</td>\n",
       "      <td>3810.295966</td>\n",
       "      <td>2774.595528</td>\n",
       "      <td>0.269483</td>\n",
       "      <td>0.246782</td>\n",
       "      <td>0.116667</td>\n",
       "    </tr>\n",
       "    <tr>\n",
       "      <th>23</th>\n",
       "      <td>26 days</td>\n",
       "      <td>1.508130e+07</td>\n",
       "      <td>3883.465024</td>\n",
       "      <td>2809.670645</td>\n",
       "      <td>0.269435</td>\n",
       "      <td>0.255092</td>\n",
       "      <td>0.150000</td>\n",
       "    </tr>\n",
       "    <tr>\n",
       "      <th>24</th>\n",
       "      <td>27 days</td>\n",
       "      <td>1.552514e+07</td>\n",
       "      <td>3940.195956</td>\n",
       "      <td>2830.204720</td>\n",
       "      <td>0.269476</td>\n",
       "      <td>0.260421</td>\n",
       "      <td>0.166667</td>\n",
       "    </tr>\n",
       "    <tr>\n",
       "      <th>25</th>\n",
       "      <td>28 days</td>\n",
       "      <td>1.701499e+07</td>\n",
       "      <td>4124.923540</td>\n",
       "      <td>2899.718865</td>\n",
       "      <td>0.272089</td>\n",
       "      <td>0.262681</td>\n",
       "      <td>0.150000</td>\n",
       "    </tr>\n",
       "    <tr>\n",
       "      <th>26</th>\n",
       "      <td>29 days</td>\n",
       "      <td>1.952445e+07</td>\n",
       "      <td>4418.648152</td>\n",
       "      <td>3044.089532</td>\n",
       "      <td>0.280292</td>\n",
       "      <td>0.265149</td>\n",
       "      <td>0.150000</td>\n",
       "    </tr>\n",
       "    <tr>\n",
       "      <th>27</th>\n",
       "      <td>30 days</td>\n",
       "      <td>2.137464e+07</td>\n",
       "      <td>4623.271550</td>\n",
       "      <td>3120.222367</td>\n",
       "      <td>0.280012</td>\n",
       "      <td>0.242842</td>\n",
       "      <td>0.166667</td>\n",
       "    </tr>\n",
       "  </tbody>\n",
       "</table>\n",
       "</div>"
      ],
      "text/plain": [
       "   horizon           mse         rmse          mae      mape     mdape  \\\n",
       "0   3 days  1.481632e+06  1217.223165   950.268183  0.105322  0.089207   \n",
       "1   4 days  1.543027e+06  1242.186562  1002.663531  0.112795  0.089583   \n",
       "2   5 days  1.692824e+06  1301.085528  1058.187379  0.121114  0.093265   \n",
       "3   6 days  1.887478e+06  1373.855196  1117.647851  0.129680  0.105512   \n",
       "4   7 days  2.030495e+06  1424.954270  1149.800619  0.136431  0.110697   \n",
       "5   8 days  2.321086e+06  1523.511009  1225.991968  0.146304  0.116225   \n",
       "6   9 days  2.617708e+06  1617.933145  1311.565593  0.155906  0.130579   \n",
       "7  10 days  2.928514e+06  1711.290274  1413.815594  0.166041  0.131852   \n",
       "8  11 days  3.541103e+06  1881.781977  1552.014672  0.179274  0.152807   \n",
       "9  12 days  4.904744e+06  2214.665691  1733.173942  0.202585  0.155691   \n",
       "10 13 days  6.147265e+06  2479.367898  1866.838144  0.216834  0.157582   \n",
       "11 14 days  7.128441e+06  2669.913965  1938.566197  0.226068  0.157582   \n",
       "12 15 days  7.302735e+06  2702.357362  1964.410074  0.226440  0.159719   \n",
       "13 16 days  7.486285e+06  2736.107727  2014.532771  0.235681  0.166332   \n",
       "14 17 days  8.170351e+06  2858.382614  2145.514515  0.250033  0.180669   \n",
       "15 18 days  8.787323e+06  2964.341917  2260.228273  0.260541  0.197072   \n",
       "16 19 days  9.482332e+06  3079.339588  2364.648684  0.264096  0.196305   \n",
       "17 20 days  9.956731e+06  3155.428790  2414.454899  0.262146  0.185842   \n",
       "18 21 days  1.103542e+07  3321.960073  2472.741520  0.258745  0.182207   \n",
       "19 22 days  1.209396e+07  3477.637063  2552.019598  0.262873  0.191117   \n",
       "20 23 days  1.281337e+07  3579.576836  2602.031717  0.263894  0.198558   \n",
       "21 24 days  1.340493e+07  3661.274246  2689.089447  0.268659  0.212670   \n",
       "22 25 days  1.451836e+07  3810.295966  2774.595528  0.269483  0.246782   \n",
       "23 26 days  1.508130e+07  3883.465024  2809.670645  0.269435  0.255092   \n",
       "24 27 days  1.552514e+07  3940.195956  2830.204720  0.269476  0.260421   \n",
       "25 28 days  1.701499e+07  4124.923540  2899.718865  0.272089  0.262681   \n",
       "26 29 days  1.952445e+07  4418.648152  3044.089532  0.280292  0.265149   \n",
       "27 30 days  2.137464e+07  4623.271550  3120.222367  0.280012  0.242842   \n",
       "\n",
       "    coverage  \n",
       "0   0.583333  \n",
       "1   0.500000  \n",
       "2   0.466667  \n",
       "3   0.466667  \n",
       "4   0.483333  \n",
       "5   0.450000  \n",
       "6   0.383333  \n",
       "7   0.333333  \n",
       "8   0.250000  \n",
       "9   0.216667  \n",
       "10  0.200000  \n",
       "11  0.250000  \n",
       "12  0.250000  \n",
       "13  0.216667  \n",
       "14  0.166667  \n",
       "15  0.150000  \n",
       "16  0.166667  \n",
       "17  0.166667  \n",
       "18  0.183333  \n",
       "19  0.183333  \n",
       "20  0.166667  \n",
       "21  0.133333  \n",
       "22  0.116667  \n",
       "23  0.150000  \n",
       "24  0.166667  \n",
       "25  0.150000  \n",
       "26  0.150000  \n",
       "27  0.166667  "
      ]
     },
     "execution_count": 44,
     "metadata": {},
     "output_type": "execute_result"
    }
   ],
   "source": [
    "performance_metrics(cv_results)"
   ]
  },
  {
   "cell_type": "markdown",
   "id": "governmental-registrar",
   "metadata": {},
   "source": [
    "## Lets try to play with the prophet parameters (the one above is using basic prophet model)"
   ]
  },
  {
   "cell_type": "code",
   "execution_count": 67,
   "id": "geological-artwork",
   "metadata": {},
   "outputs": [],
   "source": [
    "# Optional smaller time-period to zone-in on variations \n",
    "train_short = df_basic.iloc[:600]\n",
    "test_short = df_basic.iloc[600:800]"
   ]
  },
  {
   "cell_type": "code",
   "execution_count": 122,
   "id": "cross-sally",
   "metadata": {},
   "outputs": [],
   "source": [
    "# interval_width=0.95’, this sets the uncertainty interval to produce a confidence interval around the forecast.\n",
    "# weekly_seasonality=True to try and see if trading follows weekly variations\n",
    "# changepoint_prior_scale=2 to make the model more flexible to fit the data points\n",
    "# add_seasonality to add monthly seasonality (check)\n",
    "model2 = Prophet(interval_width=0.95, weekly_seasonality=True, changepoint_prior_scale=2)\n",
    "# model2.add_seasonality(name='monthly', period=30.5, fourier_order=5, prior_scale=0.02)"
   ]
  },
  {
   "cell_type": "code",
   "execution_count": 99,
   "id": "subject-sphere",
   "metadata": {},
   "outputs": [
    {
     "name": "stderr",
     "output_type": "stream",
     "text": [
      "INFO:fbprophet:Disabling daily seasonality. Run prophet with daily_seasonality=True to override this.\n"
     ]
    },
    {
     "data": {
      "text/plain": [
       "<fbprophet.forecaster.Prophet at 0x7fe89df0ab80>"
      ]
     },
     "execution_count": 99,
     "metadata": {},
     "output_type": "execute_result"
    }
   ],
   "source": [
    "model2.fit(train)"
   ]
  },
  {
   "cell_type": "code",
   "execution_count": 100,
   "id": "otherwise-thomson",
   "metadata": {},
   "outputs": [],
   "source": [
    "horizon_short = 3\n",
    "future2 = model2.make_future_dataframe(horizon_short)\n",
    "forecast2 = model2.predict(future)"
   ]
  },
  {
   "cell_type": "code",
   "execution_count": 101,
   "id": "capital-easter",
   "metadata": {},
   "outputs": [
    {
     "data": {
      "text/plain": [
       "<matplotlib.legend.Legend at 0x7fe89df62430>"
      ]
     },
     "execution_count": 101,
     "metadata": {},
     "output_type": "execute_result"
    },
    {
     "data": {
      "image/png": "[encoded data removed]",
      "text/plain": [
       "<Figure size 432x288 with 1 Axes>"
      ]
     },
     "metadata": {
      "needs_background": "light"
     },
     "output_type": "display_data"
    }
   ],
   "source": [
    "plt.plot(df_basic[\"y\"], label=\"actual\")\n",
    "plt.plot(forecast2[\"yhat\"], label=\"pred\")\n",
    "plt.legend()"
   ]
  },
  {
   "cell_type": "code",
   "execution_count": 71,
   "id": "completed-burton",
   "metadata": {},
   "outputs": [
    {
     "data": {
      "text/plain": [
       "<matplotlib.legend.Legend at 0x7fe89e017700>"
      ]
     },
     "execution_count": 71,
     "metadata": {},
     "output_type": "execute_result"
    },
    {
     "data": {
      "image/png": "[encoded data removed]",
      "text/plain": [
       "<Figure size 432x288 with 1 Axes>"
      ]
     },
     "metadata": {
      "needs_background": "light"
     },
     "output_type": "display_data"
    }
   ],
   "source": [
    "plt.plot(train['ds'], train['y'], label=\"Train\")\n",
    "plt.plot(test['ds'], test['y'], label=\"Test\")\n",
    "plt.plot(forecast2[-horizon_short:]['ds'], forecast2[-horizon_short:]['yhat'], label=\"predictions\")\n",
    "plt.legend(loc=\"best\")"
   ]
  },
  {
   "cell_type": "code",
   "execution_count": 72,
   "id": "capable-underwear",
   "metadata": {},
   "outputs": [
    {
     "data": {
      "image/png": "[encoded data removed]",
      "text/plain": [
       "<Figure size 648x648 with 3 Axes>"
      ]
     },
     "metadata": {},
     "output_type": "display_data"
    }
   ],
   "source": [
    "model2.plot_components(forecast2);"
   ]
  },
  {
   "cell_type": "code",
   "execution_count": 104,
   "id": "headed-professor",
   "metadata": {},
   "outputs": [
    {
     "name": "stderr",
     "output_type": "stream",
     "text": [
      "INFO:fbprophet:Making 72 forecasts with cutoffs between 2020-01-05 00:00:00 and 2020-12-25 00:00:00\n"
     ]
    },
    {
     "data": {
      "application/vnd.jupyter.widget-view+json": {
       "model_id": "d6f9b87aa17044069bed35dbc7bc77f4",
       "version_major": 2,
       "version_minor": 0
      },
      "text/plain": [
       "  0%|          | 0/72 [00:00<?, ?it/s]"
      ]
     },
     "metadata": {},
     "output_type": "display_data"
    }
   ],
   "source": [
    "cv_results = cross_validation(model=model2, initial=f'{70*10} days', horizon='10 days')"
   ]
  },
  {
   "cell_type": "code",
   "execution_count": 105,
   "id": "naughty-plasma",
   "metadata": {},
   "outputs": [
    {
     "data": {
      "text/html": [
       "<div>\n",
       "<style scoped>\n",
       "    .dataframe tbody tr th:only-of-type {\n",
       "        vertical-align: middle;\n",
       "    }\n",
       "\n",
       "    .dataframe tbody tr th {\n",
       "        vertical-align: top;\n",
       "    }\n",
       "\n",
       "    .dataframe thead th {\n",
       "        text-align: right;\n",
       "    }\n",
       "</style>\n",
       "<table border=\"1\" class=\"dataframe\">\n",
       "  <thead>\n",
       "    <tr style=\"text-align: right;\">\n",
       "      <th></th>\n",
       "      <th>horizon</th>\n",
       "      <th>mse</th>\n",
       "      <th>rmse</th>\n",
       "      <th>mae</th>\n",
       "      <th>mape</th>\n",
       "      <th>mdape</th>\n",
       "      <th>coverage</th>\n",
       "    </tr>\n",
       "  </thead>\n",
       "  <tbody>\n",
       "    <tr>\n",
       "      <th>0</th>\n",
       "      <td>1 days</td>\n",
       "      <td>5.049232e+05</td>\n",
       "      <td>710.579503</td>\n",
       "      <td>523.672806</td>\n",
       "      <td>0.049958</td>\n",
       "      <td>0.038210</td>\n",
       "      <td>0.833333</td>\n",
       "    </tr>\n",
       "    <tr>\n",
       "      <th>1</th>\n",
       "      <td>2 days</td>\n",
       "      <td>6.813801e+05</td>\n",
       "      <td>825.457535</td>\n",
       "      <td>608.927631</td>\n",
       "      <td>0.059826</td>\n",
       "      <td>0.043636</td>\n",
       "      <td>0.791667</td>\n",
       "    </tr>\n",
       "    <tr>\n",
       "      <th>2</th>\n",
       "      <td>3 days</td>\n",
       "      <td>7.791168e+05</td>\n",
       "      <td>882.675917</td>\n",
       "      <td>647.300684</td>\n",
       "      <td>0.061662</td>\n",
       "      <td>0.048686</td>\n",
       "      <td>0.736111</td>\n",
       "    </tr>\n",
       "    <tr>\n",
       "      <th>3</th>\n",
       "      <td>4 days</td>\n",
       "      <td>9.364177e+05</td>\n",
       "      <td>967.686757</td>\n",
       "      <td>693.515388</td>\n",
       "      <td>0.066386</td>\n",
       "      <td>0.052004</td>\n",
       "      <td>0.805556</td>\n",
       "    </tr>\n",
       "    <tr>\n",
       "      <th>4</th>\n",
       "      <td>5 days</td>\n",
       "      <td>1.221768e+06</td>\n",
       "      <td>1105.335955</td>\n",
       "      <td>809.872173</td>\n",
       "      <td>0.075729</td>\n",
       "      <td>0.058478</td>\n",
       "      <td>0.638889</td>\n",
       "    </tr>\n",
       "    <tr>\n",
       "      <th>5</th>\n",
       "      <td>6 days</td>\n",
       "      <td>1.332206e+06</td>\n",
       "      <td>1154.212347</td>\n",
       "      <td>859.540303</td>\n",
       "      <td>0.083089</td>\n",
       "      <td>0.062223</td>\n",
       "      <td>0.680556</td>\n",
       "    </tr>\n",
       "    <tr>\n",
       "      <th>6</th>\n",
       "      <td>7 days</td>\n",
       "      <td>1.537180e+06</td>\n",
       "      <td>1239.830694</td>\n",
       "      <td>941.192856</td>\n",
       "      <td>0.091539</td>\n",
       "      <td>0.069109</td>\n",
       "      <td>0.638889</td>\n",
       "    </tr>\n",
       "    <tr>\n",
       "      <th>7</th>\n",
       "      <td>8 days</td>\n",
       "      <td>1.972719e+06</td>\n",
       "      <td>1404.535010</td>\n",
       "      <td>1017.025131</td>\n",
       "      <td>0.094034</td>\n",
       "      <td>0.076204</td>\n",
       "      <td>0.666667</td>\n",
       "    </tr>\n",
       "    <tr>\n",
       "      <th>8</th>\n",
       "      <td>9 days</td>\n",
       "      <td>2.294872e+06</td>\n",
       "      <td>1514.883659</td>\n",
       "      <td>1084.004411</td>\n",
       "      <td>0.097690</td>\n",
       "      <td>0.070138</td>\n",
       "      <td>0.638889</td>\n",
       "    </tr>\n",
       "    <tr>\n",
       "      <th>9</th>\n",
       "      <td>10 days</td>\n",
       "      <td>2.550887e+06</td>\n",
       "      <td>1597.149657</td>\n",
       "      <td>1188.173437</td>\n",
       "      <td>0.105683</td>\n",
       "      <td>0.078058</td>\n",
       "      <td>0.555556</td>\n",
       "    </tr>\n",
       "  </tbody>\n",
       "</table>\n",
       "</div>"
      ],
      "text/plain": [
       "  horizon           mse         rmse          mae      mape     mdape  \\\n",
       "0  1 days  5.049232e+05   710.579503   523.672806  0.049958  0.038210   \n",
       "1  2 days  6.813801e+05   825.457535   608.927631  0.059826  0.043636   \n",
       "2  3 days  7.791168e+05   882.675917   647.300684  0.061662  0.048686   \n",
       "3  4 days  9.364177e+05   967.686757   693.515388  0.066386  0.052004   \n",
       "4  5 days  1.221768e+06  1105.335955   809.872173  0.075729  0.058478   \n",
       "5  6 days  1.332206e+06  1154.212347   859.540303  0.083089  0.062223   \n",
       "6  7 days  1.537180e+06  1239.830694   941.192856  0.091539  0.069109   \n",
       "7  8 days  1.972719e+06  1404.535010  1017.025131  0.094034  0.076204   \n",
       "8  9 days  2.294872e+06  1514.883659  1084.004411  0.097690  0.070138   \n",
       "9 10 days  2.550887e+06  1597.149657  1188.173437  0.105683  0.078058   \n",
       "\n",
       "   coverage  \n",
       "0  0.833333  \n",
       "1  0.791667  \n",
       "2  0.736111  \n",
       "3  0.805556  \n",
       "4  0.638889  \n",
       "5  0.680556  \n",
       "6  0.638889  \n",
       "7  0.666667  \n",
       "8  0.638889  \n",
       "9  0.555556  "
      ]
     },
     "execution_count": 105,
     "metadata": {},
     "output_type": "execute_result"
    }
   ],
   "source": [
    "performance_metrics(cv_results)"
   ]
  },
  {
   "cell_type": "code",
   "execution_count": 107,
   "id": "romance-aurora",
   "metadata": {},
   "outputs": [
    {
     "name": "stderr",
     "output_type": "stream",
     "text": [
      "INFO:fbprophet:Making 46 forecasts with cutoffs between 2019-01-30 00:00:00 and 2020-12-05 00:00:00\n",
      "WARNING:fbprophet:Seasonality has period of 365.25 days which is larger than initial window. Consider increasing initial.\n"
     ]
    },
    {
     "data": {
      "application/vnd.jupyter.widget-view+json": {
       "model_id": "7e71ff8321cb487a84a499881629b18e",
       "version_major": 2,
       "version_minor": 0
      },
      "text/plain": [
       "  0%|          | 0/46 [00:00<?, ?it/s]"
      ]
     },
     "metadata": {},
     "output_type": "display_data"
    }
   ],
   "source": [
    "cv_results2 = cross_validation(model=model2, initial=f'{70 * 5} days', horizon='30 days')"
   ]
  },
  {
   "cell_type": "code",
   "execution_count": 108,
   "id": "exterior-entrance",
   "metadata": {},
   "outputs": [
    {
     "data": {
      "text/html": [
       "<div>\n",
       "<style scoped>\n",
       "    .dataframe tbody tr th:only-of-type {\n",
       "        vertical-align: middle;\n",
       "    }\n",
       "\n",
       "    .dataframe tbody tr th {\n",
       "        vertical-align: top;\n",
       "    }\n",
       "\n",
       "    .dataframe thead th {\n",
       "        text-align: right;\n",
       "    }\n",
       "</style>\n",
       "<table border=\"1\" class=\"dataframe\">\n",
       "  <thead>\n",
       "    <tr style=\"text-align: right;\">\n",
       "      <th></th>\n",
       "      <th>horizon</th>\n",
       "      <th>mse</th>\n",
       "      <th>rmse</th>\n",
       "      <th>mae</th>\n",
       "      <th>mape</th>\n",
       "      <th>mdape</th>\n",
       "      <th>coverage</th>\n",
       "    </tr>\n",
       "  </thead>\n",
       "  <tbody>\n",
       "    <tr>\n",
       "      <th>0</th>\n",
       "      <td>3 days</td>\n",
       "      <td>8.250200e+05</td>\n",
       "      <td>908.306112</td>\n",
       "      <td>678.991245</td>\n",
       "      <td>0.082880</td>\n",
       "      <td>0.065094</td>\n",
       "      <td>0.702899</td>\n",
       "    </tr>\n",
       "    <tr>\n",
       "      <th>1</th>\n",
       "      <td>4 days</td>\n",
       "      <td>9.667630e+05</td>\n",
       "      <td>983.241074</td>\n",
       "      <td>763.044683</td>\n",
       "      <td>0.094431</td>\n",
       "      <td>0.070808</td>\n",
       "      <td>0.659420</td>\n",
       "    </tr>\n",
       "    <tr>\n",
       "      <th>2</th>\n",
       "      <td>5 days</td>\n",
       "      <td>1.131872e+06</td>\n",
       "      <td>1063.894538</td>\n",
       "      <td>840.924102</td>\n",
       "      <td>0.102931</td>\n",
       "      <td>0.077652</td>\n",
       "      <td>0.608696</td>\n",
       "    </tr>\n",
       "    <tr>\n",
       "      <th>3</th>\n",
       "      <td>6 days</td>\n",
       "      <td>1.335575e+06</td>\n",
       "      <td>1155.670847</td>\n",
       "      <td>910.875079</td>\n",
       "      <td>0.112386</td>\n",
       "      <td>0.081281</td>\n",
       "      <td>0.601449</td>\n",
       "    </tr>\n",
       "    <tr>\n",
       "      <th>4</th>\n",
       "      <td>7 days</td>\n",
       "      <td>1.621988e+06</td>\n",
       "      <td>1273.572961</td>\n",
       "      <td>992.321908</td>\n",
       "      <td>0.122266</td>\n",
       "      <td>0.082908</td>\n",
       "      <td>0.594203</td>\n",
       "    </tr>\n",
       "    <tr>\n",
       "      <th>5</th>\n",
       "      <td>8 days</td>\n",
       "      <td>1.893455e+06</td>\n",
       "      <td>1376.028876</td>\n",
       "      <td>1050.203631</td>\n",
       "      <td>0.130108</td>\n",
       "      <td>0.081907</td>\n",
       "      <td>0.608696</td>\n",
       "    </tr>\n",
       "    <tr>\n",
       "      <th>6</th>\n",
       "      <td>9 days</td>\n",
       "      <td>2.174154e+06</td>\n",
       "      <td>1474.501323</td>\n",
       "      <td>1101.648127</td>\n",
       "      <td>0.135892</td>\n",
       "      <td>0.084241</td>\n",
       "      <td>0.623188</td>\n",
       "    </tr>\n",
       "    <tr>\n",
       "      <th>7</th>\n",
       "      <td>10 days</td>\n",
       "      <td>2.503869e+06</td>\n",
       "      <td>1582.361851</td>\n",
       "      <td>1166.093690</td>\n",
       "      <td>0.144425</td>\n",
       "      <td>0.085793</td>\n",
       "      <td>0.601449</td>\n",
       "    </tr>\n",
       "    <tr>\n",
       "      <th>8</th>\n",
       "      <td>11 days</td>\n",
       "      <td>2.910372e+06</td>\n",
       "      <td>1705.981298</td>\n",
       "      <td>1231.911083</td>\n",
       "      <td>0.153297</td>\n",
       "      <td>0.086095</td>\n",
       "      <td>0.608696</td>\n",
       "    </tr>\n",
       "    <tr>\n",
       "      <th>9</th>\n",
       "      <td>12 days</td>\n",
       "      <td>3.625615e+06</td>\n",
       "      <td>1904.104712</td>\n",
       "      <td>1357.992833</td>\n",
       "      <td>0.170030</td>\n",
       "      <td>0.099124</td>\n",
       "      <td>0.586957</td>\n",
       "    </tr>\n",
       "    <tr>\n",
       "      <th>10</th>\n",
       "      <td>13 days</td>\n",
       "      <td>4.321314e+06</td>\n",
       "      <td>2078.777092</td>\n",
       "      <td>1495.544615</td>\n",
       "      <td>0.188359</td>\n",
       "      <td>0.122091</td>\n",
       "      <td>0.615942</td>\n",
       "    </tr>\n",
       "    <tr>\n",
       "      <th>11</th>\n",
       "      <td>14 days</td>\n",
       "      <td>5.132515e+06</td>\n",
       "      <td>2265.505390</td>\n",
       "      <td>1658.759038</td>\n",
       "      <td>0.208829</td>\n",
       "      <td>0.149873</td>\n",
       "      <td>0.601449</td>\n",
       "    </tr>\n",
       "    <tr>\n",
       "      <th>12</th>\n",
       "      <td>15 days</td>\n",
       "      <td>6.001326e+06</td>\n",
       "      <td>2449.760305</td>\n",
       "      <td>1808.183679</td>\n",
       "      <td>0.228440</td>\n",
       "      <td>0.164619</td>\n",
       "      <td>0.601449</td>\n",
       "    </tr>\n",
       "    <tr>\n",
       "      <th>13</th>\n",
       "      <td>16 days</td>\n",
       "      <td>6.761561e+06</td>\n",
       "      <td>2600.300116</td>\n",
       "      <td>1907.043546</td>\n",
       "      <td>0.243149</td>\n",
       "      <td>0.177688</td>\n",
       "      <td>0.586957</td>\n",
       "    </tr>\n",
       "    <tr>\n",
       "      <th>14</th>\n",
       "      <td>17 days</td>\n",
       "      <td>7.676374e+06</td>\n",
       "      <td>2770.626993</td>\n",
       "      <td>2005.459348</td>\n",
       "      <td>0.261418</td>\n",
       "      <td>0.193443</td>\n",
       "      <td>0.586957</td>\n",
       "    </tr>\n",
       "    <tr>\n",
       "      <th>15</th>\n",
       "      <td>18 days</td>\n",
       "      <td>8.267320e+06</td>\n",
       "      <td>2875.294708</td>\n",
       "      <td>2055.732869</td>\n",
       "      <td>0.272280</td>\n",
       "      <td>0.187255</td>\n",
       "      <td>0.623188</td>\n",
       "    </tr>\n",
       "    <tr>\n",
       "      <th>16</th>\n",
       "      <td>19 days</td>\n",
       "      <td>9.160083e+06</td>\n",
       "      <td>3026.562978</td>\n",
       "      <td>2158.835130</td>\n",
       "      <td>0.285809</td>\n",
       "      <td>0.191423</td>\n",
       "      <td>0.659420</td>\n",
       "    </tr>\n",
       "    <tr>\n",
       "      <th>17</th>\n",
       "      <td>20 days</td>\n",
       "      <td>9.749487e+06</td>\n",
       "      <td>3122.416857</td>\n",
       "      <td>2251.901290</td>\n",
       "      <td>0.294750</td>\n",
       "      <td>0.194340</td>\n",
       "      <td>0.666667</td>\n",
       "    </tr>\n",
       "    <tr>\n",
       "      <th>18</th>\n",
       "      <td>21 days</td>\n",
       "      <td>1.035126e+07</td>\n",
       "      <td>3217.337286</td>\n",
       "      <td>2359.894171</td>\n",
       "      <td>0.306565</td>\n",
       "      <td>0.196029</td>\n",
       "      <td>0.673913</td>\n",
       "    </tr>\n",
       "    <tr>\n",
       "      <th>19</th>\n",
       "      <td>22 days</td>\n",
       "      <td>1.088954e+07</td>\n",
       "      <td>3299.930565</td>\n",
       "      <td>2443.896509</td>\n",
       "      <td>0.317947</td>\n",
       "      <td>0.195712</td>\n",
       "      <td>0.681159</td>\n",
       "    </tr>\n",
       "    <tr>\n",
       "      <th>20</th>\n",
       "      <td>23 days</td>\n",
       "      <td>1.156094e+07</td>\n",
       "      <td>3400.138312</td>\n",
       "      <td>2523.810267</td>\n",
       "      <td>0.328201</td>\n",
       "      <td>0.197002</td>\n",
       "      <td>0.710145</td>\n",
       "    </tr>\n",
       "    <tr>\n",
       "      <th>21</th>\n",
       "      <td>24 days</td>\n",
       "      <td>1.251952e+07</td>\n",
       "      <td>3538.294055</td>\n",
       "      <td>2614.410797</td>\n",
       "      <td>0.339145</td>\n",
       "      <td>0.209756</td>\n",
       "      <td>0.710145</td>\n",
       "    </tr>\n",
       "    <tr>\n",
       "      <th>22</th>\n",
       "      <td>25 days</td>\n",
       "      <td>1.366926e+07</td>\n",
       "      <td>3697.195657</td>\n",
       "      <td>2735.349887</td>\n",
       "      <td>0.353561</td>\n",
       "      <td>0.219610</td>\n",
       "      <td>0.702899</td>\n",
       "    </tr>\n",
       "    <tr>\n",
       "      <th>23</th>\n",
       "      <td>26 days</td>\n",
       "      <td>1.474001e+07</td>\n",
       "      <td>3839.272556</td>\n",
       "      <td>2843.371292</td>\n",
       "      <td>0.367053</td>\n",
       "      <td>0.223133</td>\n",
       "      <td>0.673913</td>\n",
       "    </tr>\n",
       "    <tr>\n",
       "      <th>24</th>\n",
       "      <td>27 days</td>\n",
       "      <td>1.576832e+07</td>\n",
       "      <td>3970.934151</td>\n",
       "      <td>2972.029550</td>\n",
       "      <td>0.383248</td>\n",
       "      <td>0.224321</td>\n",
       "      <td>0.659420</td>\n",
       "    </tr>\n",
       "    <tr>\n",
       "      <th>25</th>\n",
       "      <td>28 days</td>\n",
       "      <td>1.715713e+07</td>\n",
       "      <td>4142.116454</td>\n",
       "      <td>3128.151633</td>\n",
       "      <td>0.399480</td>\n",
       "      <td>0.222544</td>\n",
       "      <td>0.659420</td>\n",
       "    </tr>\n",
       "    <tr>\n",
       "      <th>26</th>\n",
       "      <td>29 days</td>\n",
       "      <td>1.865125e+07</td>\n",
       "      <td>4318.709586</td>\n",
       "      <td>3302.917761</td>\n",
       "      <td>0.417094</td>\n",
       "      <td>0.232899</td>\n",
       "      <td>0.688406</td>\n",
       "    </tr>\n",
       "    <tr>\n",
       "      <th>27</th>\n",
       "      <td>30 days</td>\n",
       "      <td>1.989662e+07</td>\n",
       "      <td>4460.562844</td>\n",
       "      <td>3441.301063</td>\n",
       "      <td>0.431174</td>\n",
       "      <td>0.240289</td>\n",
       "      <td>0.695652</td>\n",
       "    </tr>\n",
       "  </tbody>\n",
       "</table>\n",
       "</div>"
      ],
      "text/plain": [
       "   horizon           mse         rmse          mae      mape     mdape  \\\n",
       "0   3 days  8.250200e+05   908.306112   678.991245  0.082880  0.065094   \n",
       "1   4 days  9.667630e+05   983.241074   763.044683  0.094431  0.070808   \n",
       "2   5 days  1.131872e+06  1063.894538   840.924102  0.102931  0.077652   \n",
       "3   6 days  1.335575e+06  1155.670847   910.875079  0.112386  0.081281   \n",
       "4   7 days  1.621988e+06  1273.572961   992.321908  0.122266  0.082908   \n",
       "5   8 days  1.893455e+06  1376.028876  1050.203631  0.130108  0.081907   \n",
       "6   9 days  2.174154e+06  1474.501323  1101.648127  0.135892  0.084241   \n",
       "7  10 days  2.503869e+06  1582.361851  1166.093690  0.144425  0.085793   \n",
       "8  11 days  2.910372e+06  1705.981298  1231.911083  0.153297  0.086095   \n",
       "9  12 days  3.625615e+06  1904.104712  1357.992833  0.170030  0.099124   \n",
       "10 13 days  4.321314e+06  2078.777092  1495.544615  0.188359  0.122091   \n",
       "11 14 days  5.132515e+06  2265.505390  1658.759038  0.208829  0.149873   \n",
       "12 15 days  6.001326e+06  2449.760305  1808.183679  0.228440  0.164619   \n",
       "13 16 days  6.761561e+06  2600.300116  1907.043546  0.243149  0.177688   \n",
       "14 17 days  7.676374e+06  2770.626993  2005.459348  0.261418  0.193443   \n",
       "15 18 days  8.267320e+06  2875.294708  2055.732869  0.272280  0.187255   \n",
       "16 19 days  9.160083e+06  3026.562978  2158.835130  0.285809  0.191423   \n",
       "17 20 days  9.749487e+06  3122.416857  2251.901290  0.294750  0.194340   \n",
       "18 21 days  1.035126e+07  3217.337286  2359.894171  0.306565  0.196029   \n",
       "19 22 days  1.088954e+07  3299.930565  2443.896509  0.317947  0.195712   \n",
       "20 23 days  1.156094e+07  3400.138312  2523.810267  0.328201  0.197002   \n",
       "21 24 days  1.251952e+07  3538.294055  2614.410797  0.339145  0.209756   \n",
       "22 25 days  1.366926e+07  3697.195657  2735.349887  0.353561  0.219610   \n",
       "23 26 days  1.474001e+07  3839.272556  2843.371292  0.367053  0.223133   \n",
       "24 27 days  1.576832e+07  3970.934151  2972.029550  0.383248  0.224321   \n",
       "25 28 days  1.715713e+07  4142.116454  3128.151633  0.399480  0.222544   \n",
       "26 29 days  1.865125e+07  4318.709586  3302.917761  0.417094  0.232899   \n",
       "27 30 days  1.989662e+07  4460.562844  3441.301063  0.431174  0.240289   \n",
       "\n",
       "    coverage  \n",
       "0   0.702899  \n",
       "1   0.659420  \n",
       "2   0.608696  \n",
       "3   0.601449  \n",
       "4   0.594203  \n",
       "5   0.608696  \n",
       "6   0.623188  \n",
       "7   0.601449  \n",
       "8   0.608696  \n",
       "9   0.586957  \n",
       "10  0.615942  \n",
       "11  0.601449  \n",
       "12  0.601449  \n",
       "13  0.586957  \n",
       "14  0.586957  \n",
       "15  0.623188  \n",
       "16  0.659420  \n",
       "17  0.666667  \n",
       "18  0.673913  \n",
       "19  0.681159  \n",
       "20  0.710145  \n",
       "21  0.710145  \n",
       "22  0.702899  \n",
       "23  0.673913  \n",
       "24  0.659420  \n",
       "25  0.659420  \n",
       "26  0.688406  \n",
       "27  0.695652  "
      ]
     },
     "execution_count": 108,
     "metadata": {},
     "output_type": "execute_result"
    }
   ],
   "source": [
    "performance_metrics(cv_results2)"
   ]
  },
  {
   "cell_type": "code",
   "execution_count": 109,
   "id": "architectural-melissa",
   "metadata": {},
   "outputs": [
    {
     "data": {
      "text/plain": [
       "<fbprophet.forecaster.Prophet at 0x7fe89dd6db80>"
      ]
     },
     "execution_count": 109,
     "metadata": {},
     "output_type": "execute_result"
    }
   ],
   "source": [
    "model3 = Prophet(interval_width=0.95, weekly_seasonality=True, yearly_seasonality=True, changepoint_prior_scale=2)\n",
    "model3.add_seasonality(name='monthly', period=30.5, fourier_order=5, prior_scale=0.02)"
   ]
  },
  {
   "cell_type": "code",
   "execution_count": 110,
   "id": "thick-assembly",
   "metadata": {},
   "outputs": [
    {
     "name": "stderr",
     "output_type": "stream",
     "text": [
      "INFO:fbprophet:Disabling daily seasonality. Run prophet with daily_seasonality=True to override this.\n"
     ]
    },
    {
     "data": {
      "text/plain": [
       "<fbprophet.forecaster.Prophet at 0x7fe89dd6db80>"
      ]
     },
     "execution_count": 110,
     "metadata": {},
     "output_type": "execute_result"
    }
   ],
   "source": [
    "model3.fit(train)"
   ]
  },
  {
   "cell_type": "code",
   "execution_count": 111,
   "id": "economic-delight",
   "metadata": {},
   "outputs": [],
   "source": [
    "horizon_long = 55\n",
    "future3 = model3.make_future_dataframe(horizon_long)\n",
    "forecast3 = model3.predict(future3)"
   ]
  },
  {
   "cell_type": "code",
   "execution_count": 112,
   "id": "hungry-palace",
   "metadata": {},
   "outputs": [
    {
     "data": {
      "text/plain": [
       "<matplotlib.legend.Legend at 0x7fe8a02c2df0>"
      ]
     },
     "execution_count": 112,
     "metadata": {},
     "output_type": "execute_result"
    },
    {
     "data": {
      "image/png": "[encoded data removed]",
      "text/plain": [
       "<Figure size 432x288 with 1 Axes>"
      ]
     },
     "metadata": {
      "needs_background": "light"
     },
     "output_type": "display_data"
    }
   ],
   "source": [
    "plt.plot(df_basic[\"y\"], label=\"actual\")\n",
    "plt.plot(forecast[\"yhat\"], label=\"pred\")\n",
    "plt.legend()"
   ]
  },
  {
   "cell_type": "code",
   "execution_count": 113,
   "id": "severe-figure",
   "metadata": {},
   "outputs": [
    {
     "data": {
      "text/plain": [
       "<matplotlib.legend.Legend at 0x7fe89e1102b0>"
      ]
     },
     "execution_count": 113,
     "metadata": {},
     "output_type": "execute_result"
    },
    {
     "data": {
      "image/png": "[encoded data removed]",
      "text/plain": [
       "<Figure size 432x288 with 1 Axes>"
      ]
     },
     "metadata": {
      "needs_background": "light"
     },
     "output_type": "display_data"
    }
   ],
   "source": [
    "plt.plot(train['ds'], train['y'], label=\"Train\")\n",
    "plt.plot(test['ds'], test['y'], label=\"Test\")\n",
    "plt.plot(forecast3[-horizon_long:]['ds'], forecast3[-horizon_long:]['yhat'], label=\"predictions\")\n",
    "plt.legend(loc=\"best\")"
   ]
  },
  {
   "cell_type": "code",
   "execution_count": 114,
   "id": "surrounded-murray",
   "metadata": {},
   "outputs": [
    {
     "name": "stderr",
     "output_type": "stream",
     "text": [
      "INFO:fbprophet:Making 46 forecasts with cutoffs between 2019-01-30 00:00:00 and 2020-12-05 00:00:00\n",
      "WARNING:fbprophet:Seasonality has period of 365.25 days which is larger than initial window. Consider increasing initial.\n"
     ]
    },
    {
     "data": {
      "application/vnd.jupyter.widget-view+json": {
       "model_id": "da1df85d65be4957b5c5c48592d95ff4",
       "version_major": 2,
       "version_minor": 0
      },
      "text/plain": [
       "  0%|          | 0/46 [00:00<?, ?it/s]"
      ]
     },
     "metadata": {},
     "output_type": "display_data"
    }
   ],
   "source": [
    "cv_results = cross_validation(model=model3, initial=f'{70 * 5} days', horizon='30 days')"
   ]
  },
  {
   "cell_type": "code",
   "execution_count": 115,
   "id": "acceptable-nelson",
   "metadata": {},
   "outputs": [
    {
     "data": {
      "text/html": [
       "<div>\n",
       "<style scoped>\n",
       "    .dataframe tbody tr th:only-of-type {\n",
       "        vertical-align: middle;\n",
       "    }\n",
       "\n",
       "    .dataframe tbody tr th {\n",
       "        vertical-align: top;\n",
       "    }\n",
       "\n",
       "    .dataframe thead th {\n",
       "        text-align: right;\n",
       "    }\n",
       "</style>\n",
       "<table border=\"1\" class=\"dataframe\">\n",
       "  <thead>\n",
       "    <tr style=\"text-align: right;\">\n",
       "      <th></th>\n",
       "      <th>ds</th>\n",
       "      <th>yhat</th>\n",
       "      <th>yhat_lower</th>\n",
       "      <th>yhat_upper</th>\n",
       "      <th>y</th>\n",
       "      <th>cutoff</th>\n",
       "    </tr>\n",
       "  </thead>\n",
       "  <tbody>\n",
       "    <tr>\n",
       "      <th>0</th>\n",
       "      <td>2019-01-31</td>\n",
       "      <td>3839.214844</td>\n",
       "      <td>3288.911769</td>\n",
       "      <td>4455.513656</td>\n",
       "      <td>3441.9850</td>\n",
       "      <td>2019-01-30</td>\n",
       "    </tr>\n",
       "    <tr>\n",
       "      <th>1</th>\n",
       "      <td>2019-02-01</td>\n",
       "      <td>4082.300937</td>\n",
       "      <td>3486.656824</td>\n",
       "      <td>4698.027253</td>\n",
       "      <td>3468.2517</td>\n",
       "      <td>2019-01-30</td>\n",
       "    </tr>\n",
       "    <tr>\n",
       "      <th>2</th>\n",
       "      <td>2019-02-02</td>\n",
       "      <td>4355.298640</td>\n",
       "      <td>3729.697132</td>\n",
       "      <td>4978.089849</td>\n",
       "      <td>3466.2175</td>\n",
       "      <td>2019-01-30</td>\n",
       "    </tr>\n",
       "    <tr>\n",
       "      <th>3</th>\n",
       "      <td>2019-02-03</td>\n",
       "      <td>4577.105231</td>\n",
       "      <td>3999.089434</td>\n",
       "      <td>5199.762235</td>\n",
       "      <td>3443.1667</td>\n",
       "      <td>2019-01-30</td>\n",
       "    </tr>\n",
       "    <tr>\n",
       "      <th>4</th>\n",
       "      <td>2019-02-04</td>\n",
       "      <td>4748.187895</td>\n",
       "      <td>4114.332925</td>\n",
       "      <td>5337.926440</td>\n",
       "      <td>3451.1150</td>\n",
       "      <td>2019-01-30</td>\n",
       "    </tr>\n",
       "  </tbody>\n",
       "</table>\n",
       "</div>"
      ],
      "text/plain": [
       "          ds         yhat   yhat_lower   yhat_upper          y     cutoff\n",
       "0 2019-01-31  3839.214844  3288.911769  4455.513656  3441.9850 2019-01-30\n",
       "1 2019-02-01  4082.300937  3486.656824  4698.027253  3468.2517 2019-01-30\n",
       "2 2019-02-02  4355.298640  3729.697132  4978.089849  3466.2175 2019-01-30\n",
       "3 2019-02-03  4577.105231  3999.089434  5199.762235  3443.1667 2019-01-30\n",
       "4 2019-02-04  4748.187895  4114.332925  5337.926440  3451.1150 2019-01-30"
      ]
     },
     "execution_count": 115,
     "metadata": {},
     "output_type": "execute_result"
    }
   ],
   "source": [
    "cv_results.head()"
   ]
  },
  {
   "cell_type": "code",
   "execution_count": 116,
   "id": "raised-stuart",
   "metadata": {
    "scrolled": true
   },
   "outputs": [
    {
     "data": {
      "text/html": [
       "<div>\n",
       "<style scoped>\n",
       "    .dataframe tbody tr th:only-of-type {\n",
       "        vertical-align: middle;\n",
       "    }\n",
       "\n",
       "    .dataframe tbody tr th {\n",
       "        vertical-align: top;\n",
       "    }\n",
       "\n",
       "    .dataframe thead th {\n",
       "        text-align: right;\n",
       "    }\n",
       "</style>\n",
       "<table border=\"1\" class=\"dataframe\">\n",
       "  <thead>\n",
       "    <tr style=\"text-align: right;\">\n",
       "      <th></th>\n",
       "      <th>horizon</th>\n",
       "      <th>mse</th>\n",
       "      <th>rmse</th>\n",
       "      <th>mae</th>\n",
       "      <th>mape</th>\n",
       "      <th>mdape</th>\n",
       "      <th>coverage</th>\n",
       "    </tr>\n",
       "  </thead>\n",
       "  <tbody>\n",
       "    <tr>\n",
       "      <th>0</th>\n",
       "      <td>3 days</td>\n",
       "      <td>8.432070e+05</td>\n",
       "      <td>918.263043</td>\n",
       "      <td>691.030036</td>\n",
       "      <td>0.085106</td>\n",
       "      <td>0.060679</td>\n",
       "      <td>0.652174</td>\n",
       "    </tr>\n",
       "    <tr>\n",
       "      <th>1</th>\n",
       "      <td>4 days</td>\n",
       "      <td>9.949063e+05</td>\n",
       "      <td>997.449885</td>\n",
       "      <td>783.926300</td>\n",
       "      <td>0.097852</td>\n",
       "      <td>0.069191</td>\n",
       "      <td>0.594203</td>\n",
       "    </tr>\n",
       "    <tr>\n",
       "      <th>2</th>\n",
       "      <td>5 days</td>\n",
       "      <td>1.179787e+06</td>\n",
       "      <td>1086.180136</td>\n",
       "      <td>874.280795</td>\n",
       "      <td>0.108199</td>\n",
       "      <td>0.078759</td>\n",
       "      <td>0.550725</td>\n",
       "    </tr>\n",
       "    <tr>\n",
       "      <th>3</th>\n",
       "      <td>6 days</td>\n",
       "      <td>1.387171e+06</td>\n",
       "      <td>1177.782426</td>\n",
       "      <td>948.044680</td>\n",
       "      <td>0.118465</td>\n",
       "      <td>0.087077</td>\n",
       "      <td>0.528986</td>\n",
       "    </tr>\n",
       "    <tr>\n",
       "      <th>4</th>\n",
       "      <td>7 days</td>\n",
       "      <td>1.699918e+06</td>\n",
       "      <td>1303.808946</td>\n",
       "      <td>1032.027020</td>\n",
       "      <td>0.129326</td>\n",
       "      <td>0.090409</td>\n",
       "      <td>0.514493</td>\n",
       "    </tr>\n",
       "    <tr>\n",
       "      <th>5</th>\n",
       "      <td>8 days</td>\n",
       "      <td>1.994404e+06</td>\n",
       "      <td>1412.233682</td>\n",
       "      <td>1089.385658</td>\n",
       "      <td>0.137590</td>\n",
       "      <td>0.090623</td>\n",
       "      <td>0.536232</td>\n",
       "    </tr>\n",
       "    <tr>\n",
       "      <th>6</th>\n",
       "      <td>9 days</td>\n",
       "      <td>2.310265e+06</td>\n",
       "      <td>1519.955755</td>\n",
       "      <td>1141.792628</td>\n",
       "      <td>0.144188</td>\n",
       "      <td>0.090272</td>\n",
       "      <td>0.557971</td>\n",
       "    </tr>\n",
       "    <tr>\n",
       "      <th>7</th>\n",
       "      <td>10 days</td>\n",
       "      <td>2.653281e+06</td>\n",
       "      <td>1628.889612</td>\n",
       "      <td>1219.971198</td>\n",
       "      <td>0.155147</td>\n",
       "      <td>0.089866</td>\n",
       "      <td>0.565217</td>\n",
       "    </tr>\n",
       "    <tr>\n",
       "      <th>8</th>\n",
       "      <td>11 days</td>\n",
       "      <td>3.064313e+06</td>\n",
       "      <td>1750.517834</td>\n",
       "      <td>1288.433906</td>\n",
       "      <td>0.164721</td>\n",
       "      <td>0.096221</td>\n",
       "      <td>0.594203</td>\n",
       "    </tr>\n",
       "    <tr>\n",
       "      <th>9</th>\n",
       "      <td>12 days</td>\n",
       "      <td>3.755377e+06</td>\n",
       "      <td>1937.879505</td>\n",
       "      <td>1417.063622</td>\n",
       "      <td>0.181517</td>\n",
       "      <td>0.110343</td>\n",
       "      <td>0.579710</td>\n",
       "    </tr>\n",
       "    <tr>\n",
       "      <th>10</th>\n",
       "      <td>13 days</td>\n",
       "      <td>4.430230e+06</td>\n",
       "      <td>2104.811102</td>\n",
       "      <td>1537.102855</td>\n",
       "      <td>0.196803</td>\n",
       "      <td>0.138150</td>\n",
       "      <td>0.572464</td>\n",
       "    </tr>\n",
       "    <tr>\n",
       "      <th>11</th>\n",
       "      <td>14 days</td>\n",
       "      <td>5.214801e+06</td>\n",
       "      <td>2283.593818</td>\n",
       "      <td>1692.312036</td>\n",
       "      <td>0.215443</td>\n",
       "      <td>0.163961</td>\n",
       "      <td>0.543478</td>\n",
       "    </tr>\n",
       "    <tr>\n",
       "      <th>12</th>\n",
       "      <td>15 days</td>\n",
       "      <td>6.044466e+06</td>\n",
       "      <td>2458.549563</td>\n",
       "      <td>1831.952459</td>\n",
       "      <td>0.233186</td>\n",
       "      <td>0.172157</td>\n",
       "      <td>0.565217</td>\n",
       "    </tr>\n",
       "    <tr>\n",
       "      <th>13</th>\n",
       "      <td>16 days</td>\n",
       "      <td>6.753409e+06</td>\n",
       "      <td>2598.732263</td>\n",
       "      <td>1938.596590</td>\n",
       "      <td>0.248281</td>\n",
       "      <td>0.168292</td>\n",
       "      <td>0.579710</td>\n",
       "    </tr>\n",
       "    <tr>\n",
       "      <th>14</th>\n",
       "      <td>17 days</td>\n",
       "      <td>7.576050e+06</td>\n",
       "      <td>2752.462572</td>\n",
       "      <td>2045.585634</td>\n",
       "      <td>0.266460</td>\n",
       "      <td>0.173654</td>\n",
       "      <td>0.608696</td>\n",
       "    </tr>\n",
       "    <tr>\n",
       "      <th>15</th>\n",
       "      <td>18 days</td>\n",
       "      <td>8.097123e+06</td>\n",
       "      <td>2845.544346</td>\n",
       "      <td>2113.127194</td>\n",
       "      <td>0.278016</td>\n",
       "      <td>0.180166</td>\n",
       "      <td>0.623188</td>\n",
       "    </tr>\n",
       "    <tr>\n",
       "      <th>16</th>\n",
       "      <td>19 days</td>\n",
       "      <td>8.924823e+06</td>\n",
       "      <td>2987.444143</td>\n",
       "      <td>2223.398373</td>\n",
       "      <td>0.290609</td>\n",
       "      <td>0.195686</td>\n",
       "      <td>0.644928</td>\n",
       "    </tr>\n",
       "    <tr>\n",
       "      <th>17</th>\n",
       "      <td>20 days</td>\n",
       "      <td>9.488491e+06</td>\n",
       "      <td>3080.339354</td>\n",
       "      <td>2317.059079</td>\n",
       "      <td>0.298615</td>\n",
       "      <td>0.218337</td>\n",
       "      <td>0.666667</td>\n",
       "    </tr>\n",
       "    <tr>\n",
       "      <th>18</th>\n",
       "      <td>21 days</td>\n",
       "      <td>1.005538e+07</td>\n",
       "      <td>3171.021672</td>\n",
       "      <td>2409.831348</td>\n",
       "      <td>0.307911</td>\n",
       "      <td>0.220502</td>\n",
       "      <td>0.688406</td>\n",
       "    </tr>\n",
       "    <tr>\n",
       "      <th>19</th>\n",
       "      <td>22 days</td>\n",
       "      <td>1.053755e+07</td>\n",
       "      <td>3246.158576</td>\n",
       "      <td>2479.661499</td>\n",
       "      <td>0.317208</td>\n",
       "      <td>0.237766</td>\n",
       "      <td>0.695652</td>\n",
       "    </tr>\n",
       "    <tr>\n",
       "      <th>20</th>\n",
       "      <td>23 days</td>\n",
       "      <td>1.110386e+07</td>\n",
       "      <td>3332.245411</td>\n",
       "      <td>2537.311737</td>\n",
       "      <td>0.324132</td>\n",
       "      <td>0.259965</td>\n",
       "      <td>0.702899</td>\n",
       "    </tr>\n",
       "    <tr>\n",
       "      <th>21</th>\n",
       "      <td>24 days</td>\n",
       "      <td>1.193348e+07</td>\n",
       "      <td>3454.487446</td>\n",
       "      <td>2611.405302</td>\n",
       "      <td>0.332252</td>\n",
       "      <td>0.257316</td>\n",
       "      <td>0.702899</td>\n",
       "    </tr>\n",
       "    <tr>\n",
       "      <th>22</th>\n",
       "      <td>25 days</td>\n",
       "      <td>1.294720e+07</td>\n",
       "      <td>3598.222473</td>\n",
       "      <td>2715.229664</td>\n",
       "      <td>0.343721</td>\n",
       "      <td>0.250648</td>\n",
       "      <td>0.702899</td>\n",
       "    </tr>\n",
       "    <tr>\n",
       "      <th>23</th>\n",
       "      <td>26 days</td>\n",
       "      <td>1.386810e+07</td>\n",
       "      <td>3723.989520</td>\n",
       "      <td>2797.164576</td>\n",
       "      <td>0.353480</td>\n",
       "      <td>0.242465</td>\n",
       "      <td>0.695652</td>\n",
       "    </tr>\n",
       "    <tr>\n",
       "      <th>24</th>\n",
       "      <td>27 days</td>\n",
       "      <td>1.472925e+07</td>\n",
       "      <td>3837.870020</td>\n",
       "      <td>2884.637641</td>\n",
       "      <td>0.364297</td>\n",
       "      <td>0.239782</td>\n",
       "      <td>0.710145</td>\n",
       "    </tr>\n",
       "    <tr>\n",
       "      <th>25</th>\n",
       "      <td>28 days</td>\n",
       "      <td>1.585388e+07</td>\n",
       "      <td>3981.692540</td>\n",
       "      <td>2988.695293</td>\n",
       "      <td>0.374758</td>\n",
       "      <td>0.234322</td>\n",
       "      <td>0.717391</td>\n",
       "    </tr>\n",
       "    <tr>\n",
       "      <th>26</th>\n",
       "      <td>29 days</td>\n",
       "      <td>1.707321e+07</td>\n",
       "      <td>4131.974252</td>\n",
       "      <td>3122.819648</td>\n",
       "      <td>0.387888</td>\n",
       "      <td>0.240050</td>\n",
       "      <td>0.724638</td>\n",
       "    </tr>\n",
       "    <tr>\n",
       "      <th>27</th>\n",
       "      <td>30 days</td>\n",
       "      <td>1.801643e+07</td>\n",
       "      <td>4244.576033</td>\n",
       "      <td>3229.068581</td>\n",
       "      <td>0.398747</td>\n",
       "      <td>0.249176</td>\n",
       "      <td>0.717391</td>\n",
       "    </tr>\n",
       "  </tbody>\n",
       "</table>\n",
       "</div>"
      ],
      "text/plain": [
       "   horizon           mse         rmse          mae      mape     mdape  \\\n",
       "0   3 days  8.432070e+05   918.263043   691.030036  0.085106  0.060679   \n",
       "1   4 days  9.949063e+05   997.449885   783.926300  0.097852  0.069191   \n",
       "2   5 days  1.179787e+06  1086.180136   874.280795  0.108199  0.078759   \n",
       "3   6 days  1.387171e+06  1177.782426   948.044680  0.118465  0.087077   \n",
       "4   7 days  1.699918e+06  1303.808946  1032.027020  0.129326  0.090409   \n",
       "5   8 days  1.994404e+06  1412.233682  1089.385658  0.137590  0.090623   \n",
       "6   9 days  2.310265e+06  1519.955755  1141.792628  0.144188  0.090272   \n",
       "7  10 days  2.653281e+06  1628.889612  1219.971198  0.155147  0.089866   \n",
       "8  11 days  3.064313e+06  1750.517834  1288.433906  0.164721  0.096221   \n",
       "9  12 days  3.755377e+06  1937.879505  1417.063622  0.181517  0.110343   \n",
       "10 13 days  4.430230e+06  2104.811102  1537.102855  0.196803  0.138150   \n",
       "11 14 days  5.214801e+06  2283.593818  1692.312036  0.215443  0.163961   \n",
       "12 15 days  6.044466e+06  2458.549563  1831.952459  0.233186  0.172157   \n",
       "13 16 days  6.753409e+06  2598.732263  1938.596590  0.248281  0.168292   \n",
       "14 17 days  7.576050e+06  2752.462572  2045.585634  0.266460  0.173654   \n",
       "15 18 days  8.097123e+06  2845.544346  2113.127194  0.278016  0.180166   \n",
       "16 19 days  8.924823e+06  2987.444143  2223.398373  0.290609  0.195686   \n",
       "17 20 days  9.488491e+06  3080.339354  2317.059079  0.298615  0.218337   \n",
       "18 21 days  1.005538e+07  3171.021672  2409.831348  0.307911  0.220502   \n",
       "19 22 days  1.053755e+07  3246.158576  2479.661499  0.317208  0.237766   \n",
       "20 23 days  1.110386e+07  3332.245411  2537.311737  0.324132  0.259965   \n",
       "21 24 days  1.193348e+07  3454.487446  2611.405302  0.332252  0.257316   \n",
       "22 25 days  1.294720e+07  3598.222473  2715.229664  0.343721  0.250648   \n",
       "23 26 days  1.386810e+07  3723.989520  2797.164576  0.353480  0.242465   \n",
       "24 27 days  1.472925e+07  3837.870020  2884.637641  0.364297  0.239782   \n",
       "25 28 days  1.585388e+07  3981.692540  2988.695293  0.374758  0.234322   \n",
       "26 29 days  1.707321e+07  4131.974252  3122.819648  0.387888  0.240050   \n",
       "27 30 days  1.801643e+07  4244.576033  3229.068581  0.398747  0.249176   \n",
       "\n",
       "    coverage  \n",
       "0   0.652174  \n",
       "1   0.594203  \n",
       "2   0.550725  \n",
       "3   0.528986  \n",
       "4   0.514493  \n",
       "5   0.536232  \n",
       "6   0.557971  \n",
       "7   0.565217  \n",
       "8   0.594203  \n",
       "9   0.579710  \n",
       "10  0.572464  \n",
       "11  0.543478  \n",
       "12  0.565217  \n",
       "13  0.579710  \n",
       "14  0.608696  \n",
       "15  0.623188  \n",
       "16  0.644928  \n",
       "17  0.666667  \n",
       "18  0.688406  \n",
       "19  0.695652  \n",
       "20  0.702899  \n",
       "21  0.702899  \n",
       "22  0.702899  \n",
       "23  0.695652  \n",
       "24  0.710145  \n",
       "25  0.717391  \n",
       "26  0.724638  \n",
       "27  0.717391  "
      ]
     },
     "execution_count": 116,
     "metadata": {},
     "output_type": "execute_result"
    }
   ],
   "source": [
    "performance_metrics(cv_results)"
   ]
  },
  {
   "cell_type": "markdown",
   "id": "consecutive-microphone",
   "metadata": {},
   "source": [
    "## BEST model"
   ]
  },
  {
   "cell_type": "markdown",
   "id": "enhanced-ivory",
   "metadata": {},
   "source": [
    "**Hyperparameter tuning**"
   ]
  },
  {
   "cell_type": "code",
   "execution_count": 133,
   "id": "considered-strategy",
   "metadata": {},
   "outputs": [
    {
     "name": "stderr",
     "output_type": "stream",
     "text": [
      "INFO:fbprophet:Disabling daily seasonality. Run prophet with daily_seasonality=True to override this.\n",
      "WARNING:fbprophet.models:Optimization terminated abnormally. Falling back to Newton.\n"
     ]
    },
    {
     "ename": "KeyboardInterrupt",
     "evalue": "",
     "output_type": "error",
     "traceback": [
      "\u001b[0;31m---------------------------------------------------------------------------\u001b[0m",
      "\u001b[0;31mKeyboardInterrupt\u001b[0m                         Traceback (most recent call last)",
      "\u001b[0;32m<ipython-input-133-48eef919ebe7>\u001b[0m in \u001b[0;36m<module>\u001b[0;34m\u001b[0m\n\u001b[1;32m     17\u001b[0m \u001b[0;32mfor\u001b[0m \u001b[0mparams\u001b[0m \u001b[0;32min\u001b[0m \u001b[0mall_params\u001b[0m\u001b[0;34m:\u001b[0m\u001b[0;34m\u001b[0m\u001b[0;34m\u001b[0m\u001b[0m\n\u001b[1;32m     18\u001b[0m     \u001b[0mm\u001b[0m \u001b[0;34m=\u001b[0m \u001b[0mProphet\u001b[0m\u001b[0;34m(\u001b[0m\u001b[0;34m**\u001b[0m\u001b[0mparams\u001b[0m\u001b[0;34m)\u001b[0m\u001b[0;34m.\u001b[0m\u001b[0mfit\u001b[0m\u001b[0;34m(\u001b[0m\u001b[0mtrain\u001b[0m\u001b[0;34m)\u001b[0m  \u001b[0;31m# Fit model with given params to train data\u001b[0m\u001b[0;34m\u001b[0m\u001b[0;34m\u001b[0m\u001b[0m\n\u001b[0;32m---> 19\u001b[0;31m     \u001b[0mdf_cv\u001b[0m \u001b[0;34m=\u001b[0m \u001b[0mcross_validation\u001b[0m\u001b[0;34m(\u001b[0m\u001b[0mm\u001b[0m\u001b[0;34m,\u001b[0m \u001b[0minitial\u001b[0m\u001b[0;34m=\u001b[0m\u001b[0;34m'700 days'\u001b[0m\u001b[0;34m,\u001b[0m \u001b[0mhorizon\u001b[0m\u001b[0;34m=\u001b[0m\u001b[0;34m'7 days'\u001b[0m\u001b[0;34m,\u001b[0m \u001b[0mperiod\u001b[0m \u001b[0;34m=\u001b[0m \u001b[0;34m'70'\u001b[0m\u001b[0;34m,\u001b[0m \u001b[0mparallel\u001b[0m\u001b[0;34m=\u001b[0m\u001b[0;34m\"processes\"\u001b[0m\u001b[0;34m)\u001b[0m\u001b[0;34m\u001b[0m\u001b[0;34m\u001b[0m\u001b[0m\n\u001b[0m\u001b[1;32m     20\u001b[0m     \u001b[0mdf_p\u001b[0m \u001b[0;34m=\u001b[0m \u001b[0mperformance_metrics\u001b[0m\u001b[0;34m(\u001b[0m\u001b[0mdf_cv\u001b[0m\u001b[0;34m,\u001b[0m \u001b[0mrolling_window\u001b[0m\u001b[0;34m=\u001b[0m\u001b[0;36m1\u001b[0m\u001b[0;34m)\u001b[0m\u001b[0;34m\u001b[0m\u001b[0;34m\u001b[0m\u001b[0m\n\u001b[1;32m     21\u001b[0m     \u001b[0mrmses\u001b[0m\u001b[0;34m.\u001b[0m\u001b[0mappend\u001b[0m\u001b[0;34m(\u001b[0m\u001b[0mdf_p\u001b[0m\u001b[0;34m[\u001b[0m\u001b[0;34m'rmse'\u001b[0m\u001b[0;34m]\u001b[0m\u001b[0;34m.\u001b[0m\u001b[0mvalues\u001b[0m\u001b[0;34m[\u001b[0m\u001b[0;36m0\u001b[0m\u001b[0;34m]\u001b[0m\u001b[0;34m)\u001b[0m\u001b[0;34m\u001b[0m\u001b[0;34m\u001b[0m\u001b[0m\n",
      "\u001b[0;32m~/.pyenv/versions/3.8.6/envs/lewagon/lib/python3.8/site-packages/fbprophet/diagnostics.py\u001b[0m in \u001b[0;36mcross_validation\u001b[0;34m(model, horizon, period, initial, parallel, cutoffs)\u001b[0m\n\u001b[1;32m    138\u001b[0m             \u001b[0minitial\u001b[0m \u001b[0;34m=\u001b[0m \u001b[0mpd\u001b[0m\u001b[0;34m.\u001b[0m\u001b[0mTimedelta\u001b[0m\u001b[0;34m(\u001b[0m\u001b[0minitial\u001b[0m\u001b[0;34m)\u001b[0m\u001b[0;34m\u001b[0m\u001b[0;34m\u001b[0m\u001b[0m\n\u001b[1;32m    139\u001b[0m         \u001b[0;31m# Compute Cutoffs\u001b[0m\u001b[0;34m\u001b[0m\u001b[0;34m\u001b[0m\u001b[0;34m\u001b[0m\u001b[0m\n\u001b[0;32m--> 140\u001b[0;31m         \u001b[0mcutoffs\u001b[0m \u001b[0;34m=\u001b[0m \u001b[0mgenerate_cutoffs\u001b[0m\u001b[0;34m(\u001b[0m\u001b[0mdf\u001b[0m\u001b[0;34m,\u001b[0m \u001b[0mhorizon\u001b[0m\u001b[0;34m,\u001b[0m \u001b[0minitial\u001b[0m\u001b[0;34m,\u001b[0m \u001b[0mperiod\u001b[0m\u001b[0;34m)\u001b[0m\u001b[0;34m\u001b[0m\u001b[0;34m\u001b[0m\u001b[0m\n\u001b[0m\u001b[1;32m    141\u001b[0m     \u001b[0;32melse\u001b[0m\u001b[0;34m:\u001b[0m\u001b[0;34m\u001b[0m\u001b[0;34m\u001b[0m\u001b[0m\n\u001b[1;32m    142\u001b[0m         \u001b[0minitial\u001b[0m \u001b[0;34m=\u001b[0m \u001b[0mcutoffs\u001b[0m\u001b[0;34m[\u001b[0m\u001b[0;36m0\u001b[0m\u001b[0;34m]\u001b[0m \u001b[0;34m-\u001b[0m \u001b[0mdf\u001b[0m\u001b[0;34m[\u001b[0m\u001b[0;34m'ds'\u001b[0m\u001b[0;34m]\u001b[0m\u001b[0;34m.\u001b[0m\u001b[0mmin\u001b[0m\u001b[0;34m(\u001b[0m\u001b[0;34m)\u001b[0m\u001b[0;34m\u001b[0m\u001b[0;34m\u001b[0m\u001b[0m\n",
      "\u001b[0;32m~/.pyenv/versions/3.8.6/envs/lewagon/lib/python3.8/site-packages/fbprophet/diagnostics.py\u001b[0m in \u001b[0;36mgenerate_cutoffs\u001b[0;34m(df, horizon, initial, period)\u001b[0m\n\u001b[1;32m     37\u001b[0m         \u001b[0;32mraise\u001b[0m \u001b[0mValueError\u001b[0m\u001b[0;34m(\u001b[0m\u001b[0;34m'Less data than horizon.'\u001b[0m\u001b[0;34m)\u001b[0m\u001b[0;34m\u001b[0m\u001b[0;34m\u001b[0m\u001b[0m\n\u001b[1;32m     38\u001b[0m     \u001b[0mresult\u001b[0m \u001b[0;34m=\u001b[0m \u001b[0;34m[\u001b[0m\u001b[0mcutoff\u001b[0m\u001b[0;34m]\u001b[0m\u001b[0;34m\u001b[0m\u001b[0;34m\u001b[0m\u001b[0m\n\u001b[0;32m---> 39\u001b[0;31m     \u001b[0;32mwhile\u001b[0m \u001b[0mresult\u001b[0m\u001b[0;34m[\u001b[0m\u001b[0;34m-\u001b[0m\u001b[0;36m1\u001b[0m\u001b[0;34m]\u001b[0m \u001b[0;34m>=\u001b[0m \u001b[0mmin\u001b[0m\u001b[0;34m(\u001b[0m\u001b[0mdf\u001b[0m\u001b[0;34m[\u001b[0m\u001b[0;34m'ds'\u001b[0m\u001b[0;34m]\u001b[0m\u001b[0;34m)\u001b[0m \u001b[0;34m+\u001b[0m \u001b[0minitial\u001b[0m\u001b[0;34m:\u001b[0m\u001b[0;34m\u001b[0m\u001b[0;34m\u001b[0m\u001b[0m\n\u001b[0m\u001b[1;32m     40\u001b[0m         \u001b[0mcutoff\u001b[0m \u001b[0;34m-=\u001b[0m \u001b[0mperiod\u001b[0m\u001b[0;34m\u001b[0m\u001b[0;34m\u001b[0m\u001b[0m\n\u001b[1;32m     41\u001b[0m         \u001b[0;31m# If data does not exist in data range (cutoff, cutoff + horizon]\u001b[0m\u001b[0;34m\u001b[0m\u001b[0;34m\u001b[0m\u001b[0;34m\u001b[0m\u001b[0m\n",
      "\u001b[0;32m~/.pyenv/versions/3.8.6/envs/lewagon/lib/python3.8/site-packages/pandas/core/arrays/datetimes.py\u001b[0m in \u001b[0;36m__iter__\u001b[0;34m(self)\u001b[0m\n\u001b[1;32m    576\u001b[0m                 \u001b[0mstart_i\u001b[0m \u001b[0;34m=\u001b[0m \u001b[0mi\u001b[0m \u001b[0;34m*\u001b[0m \u001b[0mchunksize\u001b[0m\u001b[0;34m\u001b[0m\u001b[0;34m\u001b[0m\u001b[0m\n\u001b[1;32m    577\u001b[0m                 \u001b[0mend_i\u001b[0m \u001b[0;34m=\u001b[0m \u001b[0mmin\u001b[0m\u001b[0;34m(\u001b[0m\u001b[0;34m(\u001b[0m\u001b[0mi\u001b[0m \u001b[0;34m+\u001b[0m \u001b[0;36m1\u001b[0m\u001b[0;34m)\u001b[0m \u001b[0;34m*\u001b[0m \u001b[0mchunksize\u001b[0m\u001b[0;34m,\u001b[0m \u001b[0mlength\u001b[0m\u001b[0;34m)\u001b[0m\u001b[0;34m\u001b[0m\u001b[0;34m\u001b[0m\u001b[0m\n\u001b[0;32m--> 578\u001b[0;31m                 converted = ints_to_pydatetime(\n\u001b[0m\u001b[1;32m    579\u001b[0m                     \u001b[0mdata\u001b[0m\u001b[0;34m[\u001b[0m\u001b[0mstart_i\u001b[0m\u001b[0;34m:\u001b[0m\u001b[0mend_i\u001b[0m\u001b[0;34m]\u001b[0m\u001b[0;34m,\u001b[0m \u001b[0mtz\u001b[0m\u001b[0;34m=\u001b[0m\u001b[0mself\u001b[0m\u001b[0;34m.\u001b[0m\u001b[0mtz\u001b[0m\u001b[0;34m,\u001b[0m \u001b[0mfreq\u001b[0m\u001b[0;34m=\u001b[0m\u001b[0mself\u001b[0m\u001b[0;34m.\u001b[0m\u001b[0mfreq\u001b[0m\u001b[0;34m,\u001b[0m \u001b[0mbox\u001b[0m\u001b[0;34m=\u001b[0m\u001b[0;34m\"timestamp\"\u001b[0m\u001b[0;34m\u001b[0m\u001b[0;34m\u001b[0m\u001b[0m\n\u001b[1;32m    580\u001b[0m                 )\n",
      "\u001b[0;31mKeyboardInterrupt\u001b[0m: "
     ]
    }
   ],
   "source": [
    "import itertools\n",
    "import numpy as np\n",
    "import pandas as pd\n",
    "\n",
    "param_grid = {  \n",
    "    'changepoint_prior_scale': [0.01, 0.1, 0.5, 1, 2, 5],\n",
    "    'seasonality_prior_scale': [0.01, 0.1, 1.0, 10],\n",
    "    'interval_width' : [0.8,0.9,0.95],\n",
    "    'weekly_seasonality' : [True]\n",
    "}\n",
    "\n",
    "# Generate all combinations of parameters\n",
    "all_params = [dict(zip(param_grid.keys(), v)) for v in itertools.product(*param_grid.values())]\n",
    "rmses = []  # Store the RMSEs for each params here\n",
    "\n",
    "# Use cross validation to evaluate all parameters\n",
    "for params in all_params:\n",
    "    m = Prophet(**params).fit(train)  # Fit model with given params to train data\n",
    "    df_cv = cross_validation(m, initial='700 days', horizon='7 days', period = '70', parallel=\"processes\")\n",
    "    df_p = performance_metrics(df_cv, rolling_window=1)\n",
    "    rmses.append(df_p['rmse'].values[0])\n",
    "\n",
    "# Find the best parameters\n",
    "tuning_results = pd.DataFrame(all_params)\n",
    "tuning_results['rmse'] = rmses\n",
    "print(tuning_results)"
   ]
  },
  {
   "cell_type": "code",
   "execution_count": null,
   "id": "duplicate-chuck",
   "metadata": {},
   "outputs": [],
   "source": [
    "best_params = all_params[np.argmin(rmses)]\n",
    "print(best_params)"
   ]
  },
  {
   "cell_type": "markdown",
   "id": "following-breast",
   "metadata": {},
   "source": [
    "**Cross-validation of prophet:** \n",
    "We specify the forecast horizon (horizon), and then optionally the size of the initial training period (initial) and the spacing between cutoff dates (period). Period = making predictions every X days. By default, the initial training period is set to three times the horizon, and cutoffs are made every half a horizon."
   ]
  },
  {
   "cell_type": "code",
   "execution_count": null,
   "id": "foreign-spray",
   "metadata": {},
   "outputs": [],
   "source": [
    "best_model = Prophet(interval_width=0.95, weekly_seasonality=True, changepoint_prior_scale=2)\n",
    "\n",
    "best_model.fit(train)\n",
    "horizon = 7\n",
    "future = best_model.make_future_dataframe(horizon)\n",
    "forecast = best_model.predict(future)"
   ]
  },
  {
   "cell_type": "code",
   "execution_count": null,
   "id": "alternate-overall",
   "metadata": {},
   "outputs": [],
   "source": [
    "# plot forecasts\n",
    "best_model.plot(forecast, xlabel='Date', ylabel='Price ($)')\n",
    "plt.title('Bitcoin Price ($BTC)')\n",
    "# display graph\n",
    "plt.show()"
   ]
  },
  {
   "cell_type": "markdown",
   "id": "portable-respondent",
   "metadata": {},
   "source": [
    "- black dots represent actual measurements\n",
    "- blue line displays Prophet’s forecast\n",
    "- light blue window indicates uncertainty intervals\n",
    "\n",
    "Prophet’s uncertainty intervals are not expected to hold exact coverage. The intervals are, “however, a useful indication of the level of uncertainty, and especially an indicator of overfitting.”"
   ]
  },
  {
   "cell_type": "code",
   "execution_count": null,
   "id": "instrumental-central",
   "metadata": {},
   "outputs": [],
   "source": [
    "# tell us more about the forecast\n",
    "best_model.plot_components(forecast);"
   ]
  },
  {
   "cell_type": "markdown",
   "id": "experimental-pierce",
   "metadata": {},
   "source": [
    "This gives insight into saying that it is "
   ]
  },
  {
   "cell_type": "code",
   "execution_count": null,
   "id": "sustained-sector",
   "metadata": {},
   "outputs": [],
   "source": [
    "cv_results = cross_validation(model=model4, initial='700 days', horizon='7 days', period = '70', parallel=\"processes\")"
   ]
  },
  {
   "cell_type": "markdown",
   "id": "accessory-lobby",
   "metadata": {},
   "source": [
    "Cross validation performance metrics can be visualized with plot_cross_validation_metric, here shown for MAPE. \n",
    "Dots show the absolute percent error for each prediction in df_cv. \n",
    "The blue line shows the MAPE, where the mean is taken over a rolling window of the dots. "
   ]
  },
  {
   "cell_type": "code",
   "execution_count": null,
   "id": "exterior-watts",
   "metadata": {},
   "outputs": [],
   "source": [
    "from fbprophet.plot import plot_cross_validation_metric\n",
    "fig = plot_cross_validation_metric(df_cv, metric='mape')"
   ]
  },
  {
   "cell_type": "code",
   "execution_count": 120,
   "id": "worse-miller",
   "metadata": {},
   "outputs": [],
   "source": [
    "# Is it predicting on the prediction? Seems so"
   ]
  },
  {
   "cell_type": "markdown",
   "id": "extreme-whole",
   "metadata": {},
   "source": [
    "# Prophet with Fear & Greed"
   ]
  },
  {
   "cell_type": "code",
   "execution_count": 136,
   "id": "together-gathering",
   "metadata": {},
   "outputs": [],
   "source": [
    "# train/test split with F&G\n",
    "train_fg = df.iloc[:1066]\n",
    "test_fg = df.iloc[1066:]"
   ]
  },
  {
   "cell_type": "code",
   "execution_count": 134,
   "id": "pleasant-cornwall",
   "metadata": {},
   "outputs": [],
   "source": [
    "model = Prophet(interval_width=0.95, weekly_seasonality=True, changepoint_prior_scale=2)"
   ]
  },
  {
   "cell_type": "code",
   "execution_count": 138,
   "id": "personal-washington",
   "metadata": {},
   "outputs": [
    {
     "data": {
      "text/plain": [
       "<fbprophet.forecaster.Prophet at 0x7fe8a01a0b50>"
      ]
     },
     "execution_count": 138,
     "metadata": {},
     "output_type": "execute_result"
    }
   ],
   "source": [
    "# Add regressor for F&G\n",
    "model.add_regressor('FG_score')"
   ]
  },
  {
   "cell_type": "code",
   "execution_count": 139,
   "id": "furnished-quantity",
   "metadata": {},
   "outputs": [
    {
     "ename": "ValueError",
     "evalue": "Dataframe must have columns \"ds\" and \"y\" with the dates and values respectively.",
     "output_type": "error",
     "traceback": [
      "\u001b[0;31m---------------------------------------------------------------------------\u001b[0m",
      "\u001b[0;31mValueError\u001b[0m                                Traceback (most recent call last)",
      "\u001b[0;32m<ipython-input-139-d8b2ce0642a2>\u001b[0m in \u001b[0;36m<module>\u001b[0;34m\u001b[0m\n\u001b[0;32m----> 1\u001b[0;31m \u001b[0mmodel\u001b[0m\u001b[0;34m.\u001b[0m\u001b[0mfit\u001b[0m\u001b[0;34m(\u001b[0m\u001b[0mtrain_fg\u001b[0m\u001b[0;34m)\u001b[0m\u001b[0;34m\u001b[0m\u001b[0;34m\u001b[0m\u001b[0m\n\u001b[0m\u001b[1;32m      2\u001b[0m \u001b[0mhorizon\u001b[0m \u001b[0;34m=\u001b[0m \u001b[0;36m7\u001b[0m\u001b[0;34m\u001b[0m\u001b[0;34m\u001b[0m\u001b[0m\n\u001b[1;32m      3\u001b[0m \u001b[0mfuture\u001b[0m \u001b[0;34m=\u001b[0m \u001b[0mmodel\u001b[0m\u001b[0;34m.\u001b[0m\u001b[0mmake_future_dataframe\u001b[0m\u001b[0;34m(\u001b[0m\u001b[0mhorizon\u001b[0m\u001b[0;34m)\u001b[0m\u001b[0;34m\u001b[0m\u001b[0;34m\u001b[0m\u001b[0m\n\u001b[1;32m      4\u001b[0m \u001b[0mfuture\u001b[0m\u001b[0;34m[\u001b[0m\u001b[0;34m'FG_score'\u001b[0m\u001b[0;34m]\u001b[0m \u001b[0;34m=\u001b[0m \u001b[0mdf\u001b[0m\u001b[0;34m[\u001b[0m\u001b[0;34m'Fear&Greed'\u001b[0m\u001b[0;34m]\u001b[0m\u001b[0;34m\u001b[0m\u001b[0;34m\u001b[0m\u001b[0m\n\u001b[1;32m      5\u001b[0m \u001b[0mforecast\u001b[0m \u001b[0;34m=\u001b[0m \u001b[0mmodel\u001b[0m\u001b[0;34m.\u001b[0m\u001b[0mpredict\u001b[0m\u001b[0;34m(\u001b[0m\u001b[0mfuture\u001b[0m\u001b[0;34m)\u001b[0m\u001b[0;34m\u001b[0m\u001b[0;34m\u001b[0m\u001b[0m\n",
      "\u001b[0;32m~/.pyenv/versions/3.8.6/envs/lewagon/lib/python3.8/site-packages/fbprophet/forecaster.py\u001b[0m in \u001b[0;36mfit\u001b[0;34m(self, df, **kwargs)\u001b[0m\n\u001b[1;32m   1100\u001b[0m                             'Instantiate a new object.')\n\u001b[1;32m   1101\u001b[0m         \u001b[0;32mif\u001b[0m \u001b[0;34m(\u001b[0m\u001b[0;34m'ds'\u001b[0m \u001b[0;32mnot\u001b[0m \u001b[0;32min\u001b[0m \u001b[0mdf\u001b[0m\u001b[0;34m)\u001b[0m \u001b[0;32mor\u001b[0m \u001b[0;34m(\u001b[0m\u001b[0;34m'y'\u001b[0m \u001b[0;32mnot\u001b[0m \u001b[0;32min\u001b[0m \u001b[0mdf\u001b[0m\u001b[0;34m)\u001b[0m\u001b[0;34m:\u001b[0m\u001b[0;34m\u001b[0m\u001b[0;34m\u001b[0m\u001b[0m\n\u001b[0;32m-> 1102\u001b[0;31m             raise ValueError(\n\u001b[0m\u001b[1;32m   1103\u001b[0m                 \u001b[0;34m'Dataframe must have columns \"ds\" and \"y\" with the dates and '\u001b[0m\u001b[0;34m\u001b[0m\u001b[0;34m\u001b[0m\u001b[0m\n\u001b[1;32m   1104\u001b[0m                 \u001b[0;34m'values respectively.'\u001b[0m\u001b[0;34m\u001b[0m\u001b[0;34m\u001b[0m\u001b[0m\n",
      "\u001b[0;31mValueError\u001b[0m: Dataframe must have columns \"ds\" and \"y\" with the dates and values respectively."
     ]
    }
   ],
   "source": [
    "model.fit(train_fg)\n",
    "horizon = 7\n",
    "future = model.make_future_dataframe(horizon)\n",
    "future['FG_score'] = df['Fear&Greed']\n",
    "forecast = model.predict(future)"
   ]
  },
  {
   "cell_type": "code",
   "execution_count": null,
   "id": "planned-temperature",
   "metadata": {},
   "outputs": [],
   "source": []
  }
 ],
 "metadata": {
  "kernelspec": {
   "display_name": "Python 3",
   "language": "python",
   "name": "python3"
  },
  "language_info": {
   "codemirror_mode": {
    "name": "ipython",
    "version": 3
   },
   "file_extension": ".py",
   "mimetype": "text/x-python",
   "name": "python",
   "nbconvert_exporter": "python",
   "pygments_lexer": "ipython3",
   "version": "3.8.6"
  },
  "toc": {
   "base_numbering": 1,
   "nav_menu": {},
   "number_sections": true,
   "sideBar": true,
   "skip_h1_title": false,
   "title_cell": "Table of Contents",
   "title_sidebar": "Contents",
   "toc_cell": false,
   "toc_position": {},
   "toc_section_display": true,
   "toc_window_display": false
  }
 },
 "nbformat": 4,
 "nbformat_minor": 5
}
